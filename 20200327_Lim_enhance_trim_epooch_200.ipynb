{
 "cells": [
  {
   "cell_type": "markdown",
   "metadata": {
    "colab_type": "text",
    "id": "ldtHMhuLrewK"
   },
   "source": [
    "**Model 1**\n",
    "\n"
   ]
  },
  {
   "cell_type": "code",
   "execution_count": 3,
   "metadata": {},
   "outputs": [
    {
     "name": "stdout",
     "output_type": "stream",
     "text": [
      "Collecting librosa\n",
      "Collecting audioread>=2.0.0 (from librosa)\n",
      "Requirement already satisfied: scikit-learn!=0.19.0,>=0.14.0 in /opt/conda/lib/python3.6/site-packages (from librosa) (0.19.2)\n",
      "Collecting joblib>=0.12 (from librosa)\n",
      "  Using cached https://files.pythonhosted.org/packages/28/5c/cf6a2b65a321c4a209efcdf64c2689efae2cb62661f8f6f4bb28547cf1bf/joblib-0.14.1-py2.py3-none-any.whl\n",
      "Requirement already satisfied: decorator>=3.0.0 in /opt/conda/lib/python3.6/site-packages (from librosa) (4.3.0)\n",
      "Requirement already satisfied: six>=1.3 in /opt/conda/lib/python3.6/site-packages (from librosa) (1.11.0)\n",
      "Collecting soundfile>=0.9.0 (from librosa)\n",
      "  Using cached https://files.pythonhosted.org/packages/eb/f2/3cbbbf3b96fb9fa91582c438b574cff3f45b29c772f94c400e2c99ef5db9/SoundFile-0.10.3.post1-py2.py3-none-any.whl\n",
      "Requirement already satisfied: scipy>=1.0.0 in /opt/conda/lib/python3.6/site-packages (from librosa) (1.1.0)\n",
      "Collecting resampy>=0.2.2 (from librosa)\n",
      "Collecting numba>=0.43.0 (from librosa)\n",
      "  Using cached https://files.pythonhosted.org/packages/ba/49/61522f34b1333aa4e9aa02005dc0774d25bd234400dff718b16615d6a744/numba-0.48.0-cp36-cp36m-manylinux1_x86_64.whl\n",
      "Requirement already satisfied: numpy>=1.15.0 in /opt/conda/lib/python3.6/site-packages (from librosa) (1.15.4)\n",
      "Requirement already satisfied: cffi>=1.0 in /opt/conda/lib/python3.6/site-packages (from soundfile>=0.9.0->librosa) (1.11.5)\n",
      "Collecting llvmlite<0.32.0,>=0.31.0dev0 (from numba>=0.43.0->librosa)\n",
      "  Using cached https://files.pythonhosted.org/packages/ad/bb/60d4033d56c9da36490af19caa6c794b72b8aef6f792fdfa8cb95d11e419/llvmlite-0.31.0-cp36-cp36m-manylinux1_x86_64.whl\n",
      "Requirement already satisfied: setuptools in /opt/conda/lib/python3.6/site-packages (from numba>=0.43.0->librosa) (40.2.0)\n",
      "Requirement already satisfied: pycparser in /opt/conda/lib/python3.6/site-packages (from cffi>=1.0->soundfile>=0.9.0->librosa) (2.18)\n",
      "Installing collected packages: audioread, joblib, soundfile, llvmlite, numba, resampy, librosa\n",
      "  Found existing installation: llvmlite 0.23.0\n",
      "    Uninstalling llvmlite-0.23.0:\n",
      "      Successfully uninstalled llvmlite-0.23.0\n",
      "  Found existing installation: numba 0.38.1\n",
      "    Uninstalling numba-0.38.1:\n",
      "      Successfully uninstalled numba-0.38.1\n",
      "Successfully installed audioread-2.1.8 joblib-0.14.1 librosa-0.7.2 llvmlite-0.31.0 numba-0.48.0 resampy-0.2.2 soundfile-0.10.3.post1\n"
     ]
    }
   ],
   "source": [
    "#librosa 只有第一次需要裝\n",
    "\n",
    "!pip install librosa"
   ]
  },
  {
   "cell_type": "code",
   "execution_count": 4,
   "metadata": {},
   "outputs": [],
   "source": [
    "from keras.backend.tensorflow_backend import set_session\n",
    "from keras.backend.tensorflow_backend import clear_session\n",
    "from keras.backend.tensorflow_backend import get_session\n",
    "import tensorflow\n",
    "\n",
    "# Reset Keras Session\n",
    "def reset_keras():\n",
    "    sess = get_session()\n",
    "    clear_session()\n",
    "    sess.close()\n",
    "    sess = get_session()\n",
    "\n",
    "    try:\n",
    "        del classifier # this is from global space - change this as you need\n",
    "    except:\n",
    "        pass\n",
    "\n",
    "    print(gc.collect()) # if it's done something you should see a number being outputted\n",
    "\n",
    "    # use the same config as you used to create the session\n",
    "    config = tensorflow.ConfigProto()\n",
    "    config.gpu_options.per_process_gpu_memory_fraction = 1\n",
    "    config.gpu_options.visible_device_list = \"0\"\n",
    "    set_session(tensorflow.Session(config=config))"
   ]
  },
  {
   "cell_type": "code",
   "execution_count": 5,
   "metadata": {},
   "outputs": [
    {
     "name": "stderr",
     "output_type": "stream",
     "text": [
      "/opt/conda/lib/python3.6/site-packages/sklearn/ensemble/weight_boosting.py:29: DeprecationWarning: numpy.core.umath_tests is an internal NumPy module and should not be imported. It will be removed in a future NumPy release.\n",
      "  from numpy.core.umath_tests import inner1d\n"
     ]
    }
   ],
   "source": [
    "#載入所有需要的套件\n",
    "\n",
    "import librosa\n",
    "from librosa import display\n",
    "import time\n",
    "import numpy as np\n",
    "import os\n",
    "import pandas as pd\n",
    "import matplotlib.pyplot as plt\n",
    "import joblib\n",
    "from sklearn.model_selection import train_test_split\n",
    "from sklearn.tree import DecisionTreeClassifier\n",
    "from sklearn.metrics import classification_report,confusion_matrix\n",
    "from sklearn.ensemble import RandomForestClassifier\n",
    "import keras\n",
    "#import tensorflow as tf\n",
    "from keras.preprocessing import sequence\n",
    "from keras.models import Sequential\n",
    "from keras.layers import Dense, Embedding\n",
    "from keras.utils import to_categorical\n",
    "from keras.layers import Input, Flatten, Dropout, Activation\n",
    "from keras.layers import Conv1D, MaxPooling1D, GlobalAveragePooling1D\n",
    "from keras.models import Model\n",
    "from keras.callbacks import ModelCheckpoint\n",
    "\n",
    "%matplotlib inline"
   ]
  },
  {
   "cell_type": "markdown",
   "metadata": {
    "colab_type": "text",
    "id": "vCtNuVWlr5jL"
   },
   "source": [
    "# 進行建模事前準備\n",
    "## 設定檔"
   ]
  },
  {
   "cell_type": "code",
   "execution_count": 6,
   "metadata": {},
   "outputs": [],
   "source": [
    "# path = '../../dataset/ravdess_datasets/Audio_Song_Actors/Actor_01'\n",
    "path = '/home/jovyan/at083-group21/dataset/ravdess_datasets/'\n",
    "\n",
    "lst = []\n",
    "#save_dir = 'joblib'"
   ]
  },
  {
   "cell_type": "markdown",
   "metadata": {},
   "source": [
    "## Data Augmentation"
   ]
  },
  {
   "cell_type": "code",
   "execution_count": 7,
   "metadata": {},
   "outputs": [],
   "source": [
    "# Trim db 30\n",
    "def trim(data):\n",
    "    data, index = librosa.effects.trim(data, top_db=30, frame_length=1024, hop_length=512) # default frame_length=2048, hop_length=512\n",
    "    return data"
   ]
  },
  {
   "cell_type": "markdown",
   "metadata": {
    "colab_type": "text",
    "id": "vCtNuVWlr5jL"
   },
   "source": [
    "##  讀資料"
   ]
  },
  {
   "cell_type": "code",
   "execution_count": null,
   "metadata": {},
   "outputs": [],
   "source": []
  },
  {
   "cell_type": "code",
   "execution_count": null,
   "metadata": {},
   "outputs": [
    {
     "name": "stdout",
     "output_type": "stream",
     "text": [
      "--- Start load Data. Start time: 1585707887.4737136 ---\n"
     ]
    }
   ],
   "source": [
    "#trim\n",
    "## Trim\n",
    "\n",
    "start_time = time.time()\n",
    "print(\"--- Start load Data. Start time: %s ---\" % (start_time))\n",
    "for subdir, dirs, files in os.walk(path):\n",
    "\n",
    "    for file in files:\n",
    "        try:\n",
    "            #Load librosa array, obtain mfcss, store the file and the mcss information in a new array\n",
    "            X, sample_rate = librosa.load(os.path.join(subdir,file), res_type='kaiser_fast')\n",
    "            \n",
    "            #####Data Augmentation\n",
    "                        \n",
    "            X = trim(X)\n",
    "            sample_rate = np.array(sample_rate)\n",
    "\n",
    "            \n",
    "            mfccs = np.mean(librosa.feature.mfcc(y=X, sr=sample_rate, n_mfcc=100).T,axis=0) \n",
    "            # The instruction below converts the labels (from 1 to 8) to a series from 0 to 7\n",
    "            # This is because our predictor needs to start from 0 otherwise it will try to predict also 0.\n",
    "            file = int(file[7:8]) - 1 \n",
    "            arr = mfccs, file\n",
    "            lst.append(arr)\n",
    "          # If the file is not valid, skip it\n",
    "        except ValueError:\n",
    "            continue\n",
    "\n",
    "print(\"--- Data loaded. Loading time: %s seconds ---\" % (time.time() - start_time))"
   ]
  },
  {
   "cell_type": "code",
   "execution_count": 8,
   "metadata": {},
   "outputs": [],
   "source": []
  },
  {
   "cell_type": "code",
   "execution_count": 8,
   "metadata": {},
   "outputs": [],
   "source": []
  },
  {
   "cell_type": "code",
   "execution_count": 8,
   "metadata": {},
   "outputs": [],
   "source": []
  },
  {
   "cell_type": "code",
   "execution_count": 8,
   "metadata": {},
   "outputs": [],
   "source": []
  },
  {
   "cell_type": "code",
   "execution_count": null,
   "metadata": {},
   "outputs": [],
   "source": []
  },
  {
   "cell_type": "code",
   "execution_count": 6,
   "metadata": {},
   "outputs": [],
   "source": [
    "# Creating X and y: zip makes a list of all the first elements, and a list of all the second elements.\n",
    "X, y = zip(*lst)"
   ]
  },
  {
   "cell_type": "code",
   "execution_count": 7,
   "metadata": {},
   "outputs": [
    {
     "data": {
      "text/plain": [
       "((2244, 100), (2244,))"
      ]
     },
     "execution_count": 7,
     "metadata": {},
     "output_type": "execute_result"
    }
   ],
   "source": [
    "X = np.asarray(X)\n",
    "y = np.asarray(y)\n",
    "X.shape, y.shape"
   ]
  },
  {
   "cell_type": "code",
   "execution_count": 8,
   "metadata": {},
   "outputs": [],
   "source": [
    "X_train, X_test, y_train, y_test = train_test_split(X, y, test_size=0.33, random_state=42)"
   ]
  },
  {
   "cell_type": "code",
   "execution_count": 9,
   "metadata": {},
   "outputs": [],
   "source": [
    "x_traincnn = np.expand_dims(X_train, axis=2)\n",
    "x_testcnn = np.expand_dims(X_test, axis=2)"
   ]
  },
  {
   "cell_type": "code",
   "execution_count": 10,
   "metadata": {},
   "outputs": [
    {
     "data": {
      "text/plain": [
       "((1503, 100, 1), (741, 100, 1))"
      ]
     },
     "execution_count": 10,
     "metadata": {},
     "output_type": "execute_result"
    }
   ],
   "source": [
    "x_traincnn.shape, x_testcnn.shape"
   ]
  },
  {
   "cell_type": "code",
   "execution_count": 11,
   "metadata": {},
   "outputs": [],
   "source": [
    "\n",
    "# Saving joblib files to not load them again with the loop above\n",
    "X_name = 'Adam_trim_only_aug_X.joblib'\n",
    "y_name = 'Adam_trim_only_aug_y.joblib'\n",
    "save_dir = '/home/jovyan/project_model_training/final_test_folder/20200327/'\n",
    "#save_dir = 'joblib'\n",
    "savedX = joblib.dump(X, os.path.join(save_dir, X_name))\n",
    "savedy = joblib.dump(y, os.path.join(save_dir, y_name))\n"
   ]
  },
  {
   "cell_type": "code",
   "execution_count": 4,
   "metadata": {},
   "outputs": [
    {
     "data": {
      "text/plain": [
       "((1503, 100, 1), (741, 100, 1))"
      ]
     },
     "execution_count": 4,
     "metadata": {},
     "output_type": "execute_result"
    }
   ],
   "source": [
    "# Loading saved models\n",
    "\n",
    "#save_dir = '/home/jovyan/project_model_training/final_test_folder/20200326_Adam_data_augmentation/'\n",
    "save_dir = '/home/jovyan/project_model_training/final_test_folder/20200327/'\n",
    "\n",
    "X = joblib.load(f'{save_dir}/Adam_trim_only_aug_X.joblib')\n",
    "y = joblib.load(f'{save_dir}/Adam_trim_only_aug_y.joblib')\n",
    "\n",
    "X_train, X_test, y_train, y_test = train_test_split(X, y, test_size=0.33, random_state=42)\n",
    "\n",
    "x_traincnn = np.expand_dims(X_train, axis=2)\n",
    "x_testcnn = np.expand_dims(X_test, axis=2)\n",
    "\n",
    "x_traincnn.shape, x_testcnn.shape"
   ]
  },
  {
   "cell_type": "markdown",
   "metadata": {
    "colab_type": "text",
    "id": "lCVgjLj-gwE2"
   },
   "source": [
    "### 模型3: Neural network"
   ]
  },
  {
   "cell_type": "code",
   "execution_count": 5,
   "metadata": {},
   "outputs": [],
   "source": [
    "from keras.layers.convolutional import Convolution1D\n",
    "from keras.layers.normalization import BatchNormalization\n",
    "from keras.layers.advanced_activations import ELU, PReLU, LeakyReLU\n",
    "import tensorflow as tf\n",
    "\n",
    "opt = keras.optimizers.Adam(lr=0.00001, decay=1e-6)\n",
    "\n",
    "model = Sequential()\n",
    "\n",
    "model.add(Conv1D(128, 5, padding='same', input_shape=(None,1)))\n",
    "model.add(BatchNormalization())   # Instance Normalization. Because of batch size=1.\n",
    "model.add(Activation('relu'))\n",
    "#model.add(Dropout(0.06))\n",
    "\n",
    "model.add(Conv1D(128, 5,padding='same',))\n",
    "model.add(BatchNormalization())\n",
    "model.add(Activation('relu'))\n",
    "#model.add(Dropout(0.06))\n",
    "\n",
    "model.add(Conv1D(128, 5,padding='same',))\n",
    "model.add(BatchNormalization())\n",
    "model.add(Activation('relu'))\n",
    "#model.add(Dropout(0.06))\n",
    "\n",
    "model.add(Conv1D(128, 5,padding='same',))\n",
    "model.add(BatchNormalization())\n",
    "model.add(Activation('relu'))\n",
    "#model.add(Dropout(0.06))\n",
    "\n",
    "model.add(Conv1D(128, 5,padding='same',))\n",
    "model.add(BatchNormalization())\n",
    "model.add(Activation('relu'))\n",
    "#model.add(Dropout(0.06))\n",
    "\n",
    "\n",
    "model.add(Conv1D(128, 5,padding='same',))\n",
    "model.add(BatchNormalization())\n",
    "model.add(Activation('relu'))\n",
    "#model.add(Dropout(0.06))\n",
    "\n",
    "model.add(Conv1D(128, 5,padding='same',))\n",
    "model.add(BatchNormalization())\n",
    "x=model.add(Activation('relu'))\n",
    "#model.add(Dropout(0.06))\n",
    "\n",
    "model.add(GlobalAveragePooling1D())\n",
    "model.add(Dense(8))\n",
    "model.add(Activation('softmax'))\n",
    "\n",
    "\n",
    "model.compile(loss='sparse_categorical_crossentropy',\n",
    "          optimizer=opt,\n",
    "          metrics=['accuracy'])\n"
   ]
  },
  {
   "cell_type": "code",
   "execution_count": 6,
   "metadata": {},
   "outputs": [
    {
     "name": "stdout",
     "output_type": "stream",
     "text": [
      "Model: \"sequential_1\"\n",
      "_________________________________________________________________\n",
      "Layer (type)                 Output Shape              Param #   \n",
      "=================================================================\n",
      "conv1d_1 (Conv1D)            (None, None, 128)         768       \n",
      "_________________________________________________________________\n",
      "batch_normalization_1 (Batch (None, None, 128)         512       \n",
      "_________________________________________________________________\n",
      "activation_1 (Activation)    (None, None, 128)         0         \n",
      "_________________________________________________________________\n",
      "conv1d_2 (Conv1D)            (None, None, 128)         82048     \n",
      "_________________________________________________________________\n",
      "batch_normalization_2 (Batch (None, None, 128)         512       \n",
      "_________________________________________________________________\n",
      "activation_2 (Activation)    (None, None, 128)         0         \n",
      "_________________________________________________________________\n",
      "conv1d_3 (Conv1D)            (None, None, 128)         82048     \n",
      "_________________________________________________________________\n",
      "batch_normalization_3 (Batch (None, None, 128)         512       \n",
      "_________________________________________________________________\n",
      "activation_3 (Activation)    (None, None, 128)         0         \n",
      "_________________________________________________________________\n",
      "conv1d_4 (Conv1D)            (None, None, 128)         82048     \n",
      "_________________________________________________________________\n",
      "batch_normalization_4 (Batch (None, None, 128)         512       \n",
      "_________________________________________________________________\n",
      "activation_4 (Activation)    (None, None, 128)         0         \n",
      "_________________________________________________________________\n",
      "conv1d_5 (Conv1D)            (None, None, 128)         82048     \n",
      "_________________________________________________________________\n",
      "batch_normalization_5 (Batch (None, None, 128)         512       \n",
      "_________________________________________________________________\n",
      "activation_5 (Activation)    (None, None, 128)         0         \n",
      "_________________________________________________________________\n",
      "conv1d_6 (Conv1D)            (None, None, 128)         82048     \n",
      "_________________________________________________________________\n",
      "batch_normalization_6 (Batch (None, None, 128)         512       \n",
      "_________________________________________________________________\n",
      "activation_6 (Activation)    (None, None, 128)         0         \n",
      "_________________________________________________________________\n",
      "conv1d_7 (Conv1D)            (None, None, 128)         82048     \n",
      "_________________________________________________________________\n",
      "batch_normalization_7 (Batch (None, None, 128)         512       \n",
      "_________________________________________________________________\n",
      "activation_7 (Activation)    (None, None, 128)         0         \n",
      "_________________________________________________________________\n",
      "global_average_pooling1d_1 ( (None, 128)               0         \n",
      "_________________________________________________________________\n",
      "dense_1 (Dense)              (None, 8)                 1032      \n",
      "_________________________________________________________________\n",
      "activation_8 (Activation)    (None, 8)                 0         \n",
      "=================================================================\n",
      "Total params: 497,672\n",
      "Trainable params: 495,880\n",
      "Non-trainable params: 1,792\n",
      "_________________________________________________________________\n"
     ]
    }
   ],
   "source": [
    "model.summary()"
   ]
  },
  {
   "cell_type": "code",
   "execution_count": null,
   "metadata": {},
   "outputs": [],
   "source": []
  },
  {
   "cell_type": "markdown",
   "metadata": {},
   "source": [
    "## Train Model"
   ]
  },
  {
   "cell_type": "code",
   "execution_count": 37,
   "metadata": {},
   "outputs": [],
   "source": [
    "#Checkpoint\n",
    "#from keras.callbacks import ModelCheckpoint\n",
    "#filepath=\"./model_1_1_NoDA_48_nmfcc13_lr5e-05_{epoch:02d}-{val_accuracy:.2f}.h5\"\n",
    "#save_dir = os.path.join(os.getcwd(), './Ravdess_model/NoDA')\n",
    "#model_name = 'Ravdess_model_1_1.h5'\n",
    "\n",
    "#checkpoint = ModelCheckpoint(os.path.join(save_dir, filepath), monitor='val_accuracy',verbose=1, \n",
    "#                            save_best_only=True)"
   ]
  },
  {
   "cell_type": "code",
   "execution_count": 7,
   "metadata": {
    "scrolled": true
   },
   "outputs": [
    {
     "name": "stdout",
     "output_type": "stream",
     "text": [
      "Train on 1503 samples, validate on 741 samples\n",
      "Epoch 1/200\n",
      "1503/1503 [==============================] - 4s 3ms/step - loss: 2.0917 - accuracy: 0.1437 - val_loss: 2.0799 - val_accuracy: 0.0783\n",
      "Epoch 2/200\n",
      "1503/1503 [==============================] - 1s 436us/step - loss: 2.0192 - accuracy: 0.1870 - val_loss: 2.0716 - val_accuracy: 0.1053\n",
      "Epoch 3/200\n",
      "1503/1503 [==============================] - 1s 432us/step - loss: 1.9639 - accuracy: 0.2595 - val_loss: 2.0542 - val_accuracy: 0.1255\n",
      "Epoch 4/200\n",
      "1503/1503 [==============================] - 1s 442us/step - loss: 1.9107 - accuracy: 0.2854 - val_loss: 2.0213 - val_accuracy: 0.1741\n",
      "Epoch 5/200\n",
      "1503/1503 [==============================] - 1s 440us/step - loss: 1.8709 - accuracy: 0.3067 - val_loss: 1.9735 - val_accuracy: 0.2551\n",
      "Epoch 6/200\n",
      "1503/1503 [==============================] - 1s 441us/step - loss: 1.8304 - accuracy: 0.3253 - val_loss: 1.9163 - val_accuracy: 0.2969\n",
      "Epoch 7/200\n",
      "1503/1503 [==============================] - 1s 444us/step - loss: 1.7982 - accuracy: 0.3533 - val_loss: 1.8603 - val_accuracy: 0.3414\n",
      "Epoch 8/200\n",
      "1503/1503 [==============================] - 1s 440us/step - loss: 1.7740 - accuracy: 0.3393 - val_loss: 1.8062 - val_accuracy: 0.3927\n",
      "Epoch 9/200\n",
      "1503/1503 [==============================] - 1s 436us/step - loss: 1.7458 - accuracy: 0.3699 - val_loss: 1.7612 - val_accuracy: 0.3981\n",
      "Epoch 10/200\n",
      "1503/1503 [==============================] - 1s 435us/step - loss: 1.7259 - accuracy: 0.3706 - val_loss: 1.7250 - val_accuracy: 0.4035\n",
      "Epoch 11/200\n",
      "1503/1503 [==============================] - 1s 436us/step - loss: 1.7040 - accuracy: 0.3906 - val_loss: 1.6973 - val_accuracy: 0.4076\n",
      "Epoch 12/200\n",
      "1503/1503 [==============================] - 1s 435us/step - loss: 1.6880 - accuracy: 0.3979 - val_loss: 1.6667 - val_accuracy: 0.4291\n",
      "Epoch 13/200\n",
      "1503/1503 [==============================] - 1s 436us/step - loss: 1.6642 - accuracy: 0.4158 - val_loss: 1.6430 - val_accuracy: 0.4332\n",
      "Epoch 14/200\n",
      "1503/1503 [==============================] - 1s 436us/step - loss: 1.6421 - accuracy: 0.4291 - val_loss: 1.6249 - val_accuracy: 0.4561\n",
      "Epoch 15/200\n",
      "1503/1503 [==============================] - 1s 436us/step - loss: 1.6267 - accuracy: 0.4398 - val_loss: 1.6008 - val_accuracy: 0.4480\n",
      "Epoch 16/200\n",
      "1503/1503 [==============================] - 1s 435us/step - loss: 1.6060 - accuracy: 0.4617 - val_loss: 1.5835 - val_accuracy: 0.4710\n",
      "Epoch 17/200\n",
      "1503/1503 [==============================] - 1s 439us/step - loss: 1.5994 - accuracy: 0.4617 - val_loss: 1.5718 - val_accuracy: 0.4804\n",
      "Epoch 18/200\n",
      "1503/1503 [==============================] - 1s 436us/step - loss: 1.5820 - accuracy: 0.4717 - val_loss: 1.5489 - val_accuracy: 0.4993\n",
      "Epoch 19/200\n",
      "1503/1503 [==============================] - 1s 437us/step - loss: 1.5602 - accuracy: 0.4804 - val_loss: 1.5388 - val_accuracy: 0.4926\n",
      "Epoch 20/200\n",
      "1503/1503 [==============================] - 1s 440us/step - loss: 1.5471 - accuracy: 0.5037 - val_loss: 1.5251 - val_accuracy: 0.4899\n",
      "Epoch 21/200\n",
      "1503/1503 [==============================] - 1s 435us/step - loss: 1.5280 - accuracy: 0.5017 - val_loss: 1.5121 - val_accuracy: 0.5020\n",
      "Epoch 22/200\n",
      "1503/1503 [==============================] - 1s 436us/step - loss: 1.5146 - accuracy: 0.5083 - val_loss: 1.4990 - val_accuracy: 0.4899\n",
      "Epoch 23/200\n",
      "1503/1503 [==============================] - 1s 439us/step - loss: 1.5005 - accuracy: 0.5150 - val_loss: 1.4818 - val_accuracy: 0.5169\n",
      "Epoch 24/200\n",
      "1503/1503 [==============================] - 1s 440us/step - loss: 1.4852 - accuracy: 0.5150 - val_loss: 1.4749 - val_accuracy: 0.5034\n",
      "Epoch 25/200\n",
      "1503/1503 [==============================] - 1s 435us/step - loss: 1.4758 - accuracy: 0.5276 - val_loss: 1.4531 - val_accuracy: 0.5209\n",
      "Epoch 26/200\n",
      "1503/1503 [==============================] - 1s 439us/step - loss: 1.4609 - accuracy: 0.5263 - val_loss: 1.4403 - val_accuracy: 0.5317\n",
      "Epoch 27/200\n",
      "1503/1503 [==============================] - 1s 436us/step - loss: 1.4523 - accuracy: 0.5403 - val_loss: 1.4369 - val_accuracy: 0.5344\n",
      "Epoch 28/200\n",
      "1503/1503 [==============================] - 1s 435us/step - loss: 1.4402 - accuracy: 0.5482 - val_loss: 1.4157 - val_accuracy: 0.5479\n",
      "Epoch 29/200\n",
      "1503/1503 [==============================] - 1s 436us/step - loss: 1.4200 - accuracy: 0.5509 - val_loss: 1.4099 - val_accuracy: 0.5358\n",
      "Epoch 30/200\n",
      "1503/1503 [==============================] - 1s 435us/step - loss: 1.4113 - accuracy: 0.5542 - val_loss: 1.4004 - val_accuracy: 0.5425\n",
      "Epoch 31/200\n",
      "1503/1503 [==============================] - 1s 437us/step - loss: 1.3890 - accuracy: 0.5755 - val_loss: 1.3866 - val_accuracy: 0.5196\n",
      "Epoch 32/200\n",
      "1503/1503 [==============================] - 1s 436us/step - loss: 1.3786 - accuracy: 0.5828 - val_loss: 1.3899 - val_accuracy: 0.5398\n",
      "Epoch 33/200\n",
      "1503/1503 [==============================] - 1s 438us/step - loss: 1.3587 - accuracy: 0.5975 - val_loss: 1.3596 - val_accuracy: 0.5574\n",
      "Epoch 34/200\n",
      "1503/1503 [==============================] - 1s 442us/step - loss: 1.3498 - accuracy: 0.5968 - val_loss: 1.3743 - val_accuracy: 0.5493\n",
      "Epoch 35/200\n",
      "1503/1503 [==============================] - 1s 436us/step - loss: 1.3438 - accuracy: 0.5908 - val_loss: 1.3309 - val_accuracy: 0.5762\n",
      "Epoch 36/200\n",
      "1503/1503 [==============================] - 1s 439us/step - loss: 1.3212 - accuracy: 0.6061 - val_loss: 1.3189 - val_accuracy: 0.5789\n",
      "Epoch 37/200\n",
      "1503/1503 [==============================] - 1s 435us/step - loss: 1.3118 - accuracy: 0.6121 - val_loss: 1.3080 - val_accuracy: 0.5884\n",
      "Epoch 38/200\n",
      "1503/1503 [==============================] - 1s 437us/step - loss: 1.2939 - accuracy: 0.6141 - val_loss: 1.3012 - val_accuracy: 0.5924\n",
      "Epoch 39/200\n",
      "1503/1503 [==============================] - 1s 437us/step - loss: 1.2765 - accuracy: 0.6301 - val_loss: 1.3017 - val_accuracy: 0.5897\n",
      "Epoch 40/200\n",
      "1503/1503 [==============================] - 1s 436us/step - loss: 1.2729 - accuracy: 0.6261 - val_loss: 1.2764 - val_accuracy: 0.5870\n",
      "Epoch 41/200\n",
      "1503/1503 [==============================] - 1s 444us/step - loss: 1.2568 - accuracy: 0.6334 - val_loss: 1.2847 - val_accuracy: 0.5857\n",
      "Epoch 42/200\n",
      "1503/1503 [==============================] - 1s 441us/step - loss: 1.2542 - accuracy: 0.6314 - val_loss: 1.2673 - val_accuracy: 0.6005\n",
      "Epoch 43/200\n",
      "1503/1503 [==============================] - 1s 440us/step - loss: 1.2286 - accuracy: 0.6434 - val_loss: 1.2330 - val_accuracy: 0.6019\n",
      "Epoch 44/200\n",
      "1503/1503 [==============================] - 1s 434us/step - loss: 1.2161 - accuracy: 0.6660 - val_loss: 1.2315 - val_accuracy: 0.6059\n",
      "Epoch 45/200\n",
      "1503/1503 [==============================] - 1s 436us/step - loss: 1.2042 - accuracy: 0.6567 - val_loss: 1.2267 - val_accuracy: 0.6221\n",
      "Epoch 46/200\n",
      "1503/1503 [==============================] - 1s 433us/step - loss: 1.1928 - accuracy: 0.6607 - val_loss: 1.2253 - val_accuracy: 0.6235\n",
      "Epoch 47/200\n",
      "1503/1503 [==============================] - 1s 437us/step - loss: 1.1861 - accuracy: 0.6707 - val_loss: 1.2081 - val_accuracy: 0.6316\n",
      "Epoch 48/200\n",
      "1503/1503 [==============================] - 1s 437us/step - loss: 1.1750 - accuracy: 0.6660 - val_loss: 1.1943 - val_accuracy: 0.6343\n",
      "Epoch 49/200\n",
      "1503/1503 [==============================] - 1s 438us/step - loss: 1.1563 - accuracy: 0.6813 - val_loss: 1.1938 - val_accuracy: 0.6140\n",
      "Epoch 50/200\n",
      "1503/1503 [==============================] - 1s 437us/step - loss: 1.1467 - accuracy: 0.6773 - val_loss: 1.1706 - val_accuracy: 0.6370\n",
      "Epoch 51/200\n",
      "1503/1503 [==============================] - 1s 439us/step - loss: 1.1365 - accuracy: 0.6846 - val_loss: 1.1942 - val_accuracy: 0.6140\n",
      "Epoch 52/200\n",
      "1503/1503 [==============================] - 1s 439us/step - loss: 1.1313 - accuracy: 0.6880 - val_loss: 1.1582 - val_accuracy: 0.6370\n",
      "Epoch 53/200\n",
      "1503/1503 [==============================] - 1s 435us/step - loss: 1.1201 - accuracy: 0.6913 - val_loss: 1.1481 - val_accuracy: 0.6491\n",
      "Epoch 54/200\n",
      "1503/1503 [==============================] - 1s 437us/step - loss: 1.0955 - accuracy: 0.7046 - val_loss: 1.1454 - val_accuracy: 0.6491\n",
      "Epoch 55/200\n",
      "1503/1503 [==============================] - 1s 437us/step - loss: 1.0934 - accuracy: 0.6979 - val_loss: 1.1471 - val_accuracy: 0.6559\n",
      "Epoch 56/200\n",
      "1503/1503 [==============================] - 1s 438us/step - loss: 1.0923 - accuracy: 0.7019 - val_loss: 1.1331 - val_accuracy: 0.6653\n",
      "Epoch 57/200\n",
      "1503/1503 [==============================] - 1s 435us/step - loss: 1.0727 - accuracy: 0.7059 - val_loss: 1.1379 - val_accuracy: 0.6707\n",
      "Epoch 58/200\n",
      "1503/1503 [==============================] - 1s 435us/step - loss: 1.0739 - accuracy: 0.7179 - val_loss: 1.1077 - val_accuracy: 0.6505\n",
      "Epoch 59/200\n",
      "1503/1503 [==============================] - 1s 434us/step - loss: 1.0550 - accuracy: 0.7186 - val_loss: 1.1162 - val_accuracy: 0.6532\n",
      "Epoch 60/200\n",
      "1503/1503 [==============================] - 1s 437us/step - loss: 1.0535 - accuracy: 0.7226 - val_loss: 1.0962 - val_accuracy: 0.6640\n",
      "Epoch 61/200\n",
      "1503/1503 [==============================] - 1s 439us/step - loss: 1.0369 - accuracy: 0.7299 - val_loss: 1.1037 - val_accuracy: 0.6680\n",
      "Epoch 62/200\n",
      "1503/1503 [==============================] - 1s 443us/step - loss: 1.0200 - accuracy: 0.7345 - val_loss: 1.0905 - val_accuracy: 0.6707\n",
      "Epoch 63/200\n",
      "1503/1503 [==============================] - 1s 442us/step - loss: 1.0177 - accuracy: 0.7345 - val_loss: 1.0945 - val_accuracy: 0.6640\n",
      "Epoch 64/200\n",
      "1503/1503 [==============================] - 1s 438us/step - loss: 1.0092 - accuracy: 0.7452 - val_loss: 1.0701 - val_accuracy: 0.6815\n",
      "Epoch 65/200\n",
      "1503/1503 [==============================] - 1s 434us/step - loss: 1.0148 - accuracy: 0.7259 - val_loss: 1.0738 - val_accuracy: 0.6694\n",
      "Epoch 66/200\n",
      "1503/1503 [==============================] - 1s 436us/step - loss: 0.9949 - accuracy: 0.7418 - val_loss: 1.0752 - val_accuracy: 0.6788\n",
      "Epoch 67/200\n",
      "1503/1503 [==============================] - 1s 439us/step - loss: 0.9873 - accuracy: 0.7492 - val_loss: 1.0628 - val_accuracy: 0.6721\n",
      "Epoch 68/200\n",
      "1503/1503 [==============================] - 1s 437us/step - loss: 0.9699 - accuracy: 0.7518 - val_loss: 1.0631 - val_accuracy: 0.6802\n",
      "Epoch 69/200\n",
      "1503/1503 [==============================] - 1s 439us/step - loss: 0.9678 - accuracy: 0.7478 - val_loss: 1.0507 - val_accuracy: 0.6734\n",
      "Epoch 70/200\n",
      "1503/1503 [==============================] - 1s 438us/step - loss: 0.9622 - accuracy: 0.7598 - val_loss: 1.0672 - val_accuracy: 0.6653\n",
      "Epoch 71/200\n",
      "1503/1503 [==============================] - 1s 436us/step - loss: 0.9583 - accuracy: 0.7591 - val_loss: 1.0471 - val_accuracy: 0.6869\n",
      "Epoch 72/200\n",
      "1503/1503 [==============================] - 1s 437us/step - loss: 0.9462 - accuracy: 0.7591 - val_loss: 1.0426 - val_accuracy: 0.6761\n",
      "Epoch 73/200\n",
      "1503/1503 [==============================] - 1s 439us/step - loss: 0.9500 - accuracy: 0.7578 - val_loss: 1.0527 - val_accuracy: 0.6815\n",
      "Epoch 74/200\n",
      "1503/1503 [==============================] - 1s 436us/step - loss: 0.9318 - accuracy: 0.7658 - val_loss: 1.0349 - val_accuracy: 0.6856\n",
      "Epoch 75/200\n",
      "1503/1503 [==============================] - 1s 434us/step - loss: 0.9317 - accuracy: 0.7645 - val_loss: 1.0331 - val_accuracy: 0.6721\n",
      "Epoch 76/200\n",
      "1503/1503 [==============================] - 1s 437us/step - loss: 0.9198 - accuracy: 0.7791 - val_loss: 1.0318 - val_accuracy: 0.6761\n",
      "Epoch 77/200\n",
      "1503/1503 [==============================] - 1s 441us/step - loss: 0.9073 - accuracy: 0.7758 - val_loss: 1.0472 - val_accuracy: 0.6667\n",
      "Epoch 78/200\n",
      "1503/1503 [==============================] - 1s 436us/step - loss: 0.9022 - accuracy: 0.7811 - val_loss: 1.0117 - val_accuracy: 0.6842\n",
      "Epoch 79/200\n",
      "1503/1503 [==============================] - 1s 436us/step - loss: 0.8987 - accuracy: 0.7771 - val_loss: 1.0156 - val_accuracy: 0.6937\n",
      "Epoch 80/200\n",
      "1503/1503 [==============================] - 1s 433us/step - loss: 0.9017 - accuracy: 0.7804 - val_loss: 1.0212 - val_accuracy: 0.6829\n",
      "Epoch 81/200\n",
      "1503/1503 [==============================] - 1s 438us/step - loss: 0.8878 - accuracy: 0.7705 - val_loss: 1.0037 - val_accuracy: 0.6896\n",
      "Epoch 82/200\n",
      "1503/1503 [==============================] - 1s 434us/step - loss: 0.8712 - accuracy: 0.7884 - val_loss: 1.0114 - val_accuracy: 0.6802\n",
      "Epoch 83/200\n",
      "1503/1503 [==============================] - 1s 437us/step - loss: 0.8766 - accuracy: 0.7904 - val_loss: 0.9914 - val_accuracy: 0.6896\n",
      "Epoch 84/200\n",
      "1503/1503 [==============================] - 1s 438us/step - loss: 0.8652 - accuracy: 0.7977 - val_loss: 1.0060 - val_accuracy: 0.6775\n",
      "Epoch 85/200\n",
      "1503/1503 [==============================] - 1s 439us/step - loss: 0.8539 - accuracy: 0.7898 - val_loss: 0.9959 - val_accuracy: 0.6883\n",
      "Epoch 86/200\n",
      "1503/1503 [==============================] - 1s 434us/step - loss: 0.8486 - accuracy: 0.7964 - val_loss: 0.9835 - val_accuracy: 0.7031\n",
      "Epoch 87/200\n",
      "1503/1503 [==============================] - 1s 443us/step - loss: 0.8408 - accuracy: 0.7944 - val_loss: 0.9964 - val_accuracy: 0.7058\n",
      "Epoch 88/200\n",
      "1503/1503 [==============================] - 1s 440us/step - loss: 0.8391 - accuracy: 0.7931 - val_loss: 0.9685 - val_accuracy: 0.7018\n",
      "Epoch 89/200\n",
      "1503/1503 [==============================] - 1s 441us/step - loss: 0.8308 - accuracy: 0.8004 - val_loss: 0.9942 - val_accuracy: 0.6964\n",
      "Epoch 90/200\n",
      "1503/1503 [==============================] - 1s 437us/step - loss: 0.8287 - accuracy: 0.8011 - val_loss: 0.9660 - val_accuracy: 0.7085\n",
      "Epoch 91/200\n",
      "1503/1503 [==============================] - 1s 440us/step - loss: 0.8214 - accuracy: 0.8150 - val_loss: 0.9548 - val_accuracy: 0.7072\n",
      "Epoch 92/200\n",
      "1503/1503 [==============================] - 1s 433us/step - loss: 0.8038 - accuracy: 0.8204 - val_loss: 0.9707 - val_accuracy: 0.6964\n",
      "Epoch 93/200\n",
      "1503/1503 [==============================] - 1s 437us/step - loss: 0.8053 - accuracy: 0.8110 - val_loss: 0.9654 - val_accuracy: 0.6883\n",
      "Epoch 94/200\n",
      "1503/1503 [==============================] - 1s 436us/step - loss: 0.8125 - accuracy: 0.8104 - val_loss: 0.9706 - val_accuracy: 0.6964\n",
      "Epoch 95/200\n",
      "1503/1503 [==============================] - 1s 435us/step - loss: 0.7952 - accuracy: 0.8177 - val_loss: 0.9539 - val_accuracy: 0.6964\n",
      "Epoch 96/200\n",
      "1503/1503 [==============================] - 1s 433us/step - loss: 0.7920 - accuracy: 0.8144 - val_loss: 0.9520 - val_accuracy: 0.7085\n",
      "Epoch 97/200\n",
      "1503/1503 [==============================] - 1s 436us/step - loss: 0.7848 - accuracy: 0.8263 - val_loss: 0.9763 - val_accuracy: 0.6802\n",
      "Epoch 98/200\n",
      "1503/1503 [==============================] - 1s 435us/step - loss: 0.7839 - accuracy: 0.8150 - val_loss: 0.9637 - val_accuracy: 0.6869\n",
      "Epoch 99/200\n",
      "1503/1503 [==============================] - 1s 438us/step - loss: 0.7758 - accuracy: 0.8190 - val_loss: 0.9554 - val_accuracy: 0.7018\n",
      "Epoch 100/200\n",
      "1503/1503 [==============================] - 1s 440us/step - loss: 0.7693 - accuracy: 0.8277 - val_loss: 0.9813 - val_accuracy: 0.6694\n",
      "Epoch 101/200\n",
      "1503/1503 [==============================] - 1s 437us/step - loss: 0.7679 - accuracy: 0.8330 - val_loss: 0.9308 - val_accuracy: 0.7220\n",
      "Epoch 102/200\n",
      "1503/1503 [==============================] - 1s 434us/step - loss: 0.7543 - accuracy: 0.8310 - val_loss: 0.9406 - val_accuracy: 0.7112\n",
      "Epoch 103/200\n",
      "1503/1503 [==============================] - 1s 438us/step - loss: 0.7539 - accuracy: 0.8317 - val_loss: 0.9368 - val_accuracy: 0.7099\n",
      "Epoch 104/200\n",
      "1503/1503 [==============================] - 1s 434us/step - loss: 0.7472 - accuracy: 0.8330 - val_loss: 0.9258 - val_accuracy: 0.7112\n",
      "Epoch 105/200\n",
      "1503/1503 [==============================] - 1s 441us/step - loss: 0.7459 - accuracy: 0.8370 - val_loss: 0.9231 - val_accuracy: 0.7099\n",
      "Epoch 106/200\n",
      "1503/1503 [==============================] - 1s 440us/step - loss: 0.7429 - accuracy: 0.8310 - val_loss: 0.9291 - val_accuracy: 0.7166\n",
      "Epoch 107/200\n",
      "1503/1503 [==============================] - 1s 438us/step - loss: 0.7362 - accuracy: 0.8410 - val_loss: 0.9388 - val_accuracy: 0.6991\n",
      "Epoch 108/200\n",
      "1503/1503 [==============================] - 1s 436us/step - loss: 0.7249 - accuracy: 0.8377 - val_loss: 0.9581 - val_accuracy: 0.6788\n",
      "Epoch 109/200\n",
      "1503/1503 [==============================] - 1s 433us/step - loss: 0.7155 - accuracy: 0.8483 - val_loss: 0.9057 - val_accuracy: 0.7152\n",
      "Epoch 110/200\n",
      "1503/1503 [==============================] - 1s 435us/step - loss: 0.7143 - accuracy: 0.8383 - val_loss: 0.9205 - val_accuracy: 0.7126\n",
      "Epoch 111/200\n",
      "1503/1503 [==============================] - 1s 437us/step - loss: 0.7071 - accuracy: 0.8503 - val_loss: 0.9241 - val_accuracy: 0.7126\n",
      "Epoch 112/200\n",
      "1503/1503 [==============================] - 1s 439us/step - loss: 0.7074 - accuracy: 0.8456 - val_loss: 0.9053 - val_accuracy: 0.7193\n",
      "Epoch 113/200\n",
      "1503/1503 [==============================] - 1s 446us/step - loss: 0.7023 - accuracy: 0.8530 - val_loss: 0.9217 - val_accuracy: 0.7126\n",
      "Epoch 114/200\n",
      "1503/1503 [==============================] - 1s 439us/step - loss: 0.6934 - accuracy: 0.8490 - val_loss: 0.9132 - val_accuracy: 0.7206\n",
      "Epoch 115/200\n",
      "1503/1503 [==============================] - 1s 437us/step - loss: 0.6899 - accuracy: 0.8589 - val_loss: 0.9317 - val_accuracy: 0.7004\n",
      "Epoch 116/200\n",
      "1503/1503 [==============================] - 1s 439us/step - loss: 0.6819 - accuracy: 0.8476 - val_loss: 0.8988 - val_accuracy: 0.7274\n",
      "Epoch 117/200\n",
      "1503/1503 [==============================] - 1s 438us/step - loss: 0.6781 - accuracy: 0.8589 - val_loss: 0.9052 - val_accuracy: 0.7152\n",
      "Epoch 118/200\n",
      "1503/1503 [==============================] - 1s 444us/step - loss: 0.6881 - accuracy: 0.8490 - val_loss: 0.9138 - val_accuracy: 0.7031\n",
      "Epoch 119/200\n",
      "1503/1503 [==============================] - 1s 445us/step - loss: 0.6744 - accuracy: 0.8589 - val_loss: 0.8998 - val_accuracy: 0.7287\n",
      "Epoch 120/200\n",
      "1503/1503 [==============================] - 1s 437us/step - loss: 0.6715 - accuracy: 0.8616 - val_loss: 0.8893 - val_accuracy: 0.7220\n",
      "Epoch 121/200\n",
      "1503/1503 [==============================] - 1s 437us/step - loss: 0.6609 - accuracy: 0.8623 - val_loss: 0.9006 - val_accuracy: 0.7206\n",
      "Epoch 122/200\n",
      "1503/1503 [==============================] - 1s 436us/step - loss: 0.6493 - accuracy: 0.8736 - val_loss: 0.8977 - val_accuracy: 0.7179\n",
      "Epoch 123/200\n",
      "1503/1503 [==============================] - 1s 437us/step - loss: 0.6477 - accuracy: 0.8656 - val_loss: 0.9136 - val_accuracy: 0.7045\n",
      "Epoch 124/200\n",
      "1503/1503 [==============================] - 1s 436us/step - loss: 0.6521 - accuracy: 0.8623 - val_loss: 0.8789 - val_accuracy: 0.7382\n",
      "Epoch 125/200\n",
      "1503/1503 [==============================] - 1s 436us/step - loss: 0.6444 - accuracy: 0.8729 - val_loss: 0.8757 - val_accuracy: 0.7314\n",
      "Epoch 126/200\n",
      "1503/1503 [==============================] - 1s 436us/step - loss: 0.6392 - accuracy: 0.8696 - val_loss: 0.8860 - val_accuracy: 0.7287\n",
      "Epoch 127/200\n",
      "1503/1503 [==============================] - 1s 434us/step - loss: 0.6488 - accuracy: 0.8656 - val_loss: 0.8875 - val_accuracy: 0.7193\n",
      "Epoch 128/200\n",
      "1503/1503 [==============================] - 1s 437us/step - loss: 0.6270 - accuracy: 0.8689 - val_loss: 0.9122 - val_accuracy: 0.7126\n",
      "Epoch 129/200\n",
      "1503/1503 [==============================] - 1s 433us/step - loss: 0.6226 - accuracy: 0.8789 - val_loss: 0.8988 - val_accuracy: 0.7072\n",
      "Epoch 130/200\n",
      "1503/1503 [==============================] - 1s 436us/step - loss: 0.6177 - accuracy: 0.8816 - val_loss: 0.8590 - val_accuracy: 0.7341\n",
      "Epoch 131/200\n",
      "1503/1503 [==============================] - 1s 435us/step - loss: 0.6158 - accuracy: 0.8782 - val_loss: 0.8663 - val_accuracy: 0.7341\n",
      "Epoch 132/200\n",
      "1503/1503 [==============================] - 1s 437us/step - loss: 0.6087 - accuracy: 0.8876 - val_loss: 0.8710 - val_accuracy: 0.7328\n",
      "Epoch 133/200\n",
      "1503/1503 [==============================] - 1s 440us/step - loss: 0.6135 - accuracy: 0.8736 - val_loss: 0.8639 - val_accuracy: 0.7193\n",
      "Epoch 134/200\n",
      "1503/1503 [==============================] - 1s 437us/step - loss: 0.6007 - accuracy: 0.8902 - val_loss: 0.8529 - val_accuracy: 0.7341\n",
      "Epoch 135/200\n",
      "1503/1503 [==============================] - 1s 438us/step - loss: 0.5995 - accuracy: 0.8849 - val_loss: 0.8985 - val_accuracy: 0.7045\n",
      "Epoch 136/200\n",
      "1503/1503 [==============================] - 1s 436us/step - loss: 0.6003 - accuracy: 0.8809 - val_loss: 0.8565 - val_accuracy: 0.7422\n",
      "Epoch 137/200\n",
      "1503/1503 [==============================] - 1s 437us/step - loss: 0.5841 - accuracy: 0.8922 - val_loss: 0.8579 - val_accuracy: 0.7287\n",
      "Epoch 138/200\n",
      "1503/1503 [==============================] - 1s 438us/step - loss: 0.5824 - accuracy: 0.9022 - val_loss: 0.8565 - val_accuracy: 0.7206\n",
      "Epoch 139/200\n",
      "1503/1503 [==============================] - 1s 437us/step - loss: 0.5874 - accuracy: 0.8876 - val_loss: 0.8700 - val_accuracy: 0.7193\n",
      "Epoch 140/200\n",
      "1503/1503 [==============================] - 1s 438us/step - loss: 0.5852 - accuracy: 0.8876 - val_loss: 0.8375 - val_accuracy: 0.7490\n",
      "Epoch 141/200\n",
      "1503/1503 [==============================] - 1s 436us/step - loss: 0.5792 - accuracy: 0.8982 - val_loss: 0.8594 - val_accuracy: 0.7341\n",
      "Epoch 142/200\n",
      "1503/1503 [==============================] - 1s 437us/step - loss: 0.5741 - accuracy: 0.8935 - val_loss: 0.8505 - val_accuracy: 0.7368\n",
      "Epoch 143/200\n",
      "1503/1503 [==============================] - 1s 435us/step - loss: 0.5631 - accuracy: 0.9035 - val_loss: 0.8567 - val_accuracy: 0.7341\n",
      "Epoch 144/200\n",
      "1503/1503 [==============================] - 1s 436us/step - loss: 0.5535 - accuracy: 0.8962 - val_loss: 0.8566 - val_accuracy: 0.7220\n",
      "Epoch 145/200\n",
      "1503/1503 [==============================] - 1s 435us/step - loss: 0.5550 - accuracy: 0.9029 - val_loss: 0.8533 - val_accuracy: 0.7206\n",
      "Epoch 146/200\n",
      "1503/1503 [==============================] - 1s 434us/step - loss: 0.5535 - accuracy: 0.9002 - val_loss: 0.8404 - val_accuracy: 0.7368\n",
      "Epoch 147/200\n",
      "1503/1503 [==============================] - 1s 434us/step - loss: 0.5391 - accuracy: 0.8975 - val_loss: 0.8318 - val_accuracy: 0.7382\n",
      "Epoch 148/200\n",
      "1503/1503 [==============================] - 1s 434us/step - loss: 0.5453 - accuracy: 0.9082 - val_loss: 0.8376 - val_accuracy: 0.7355\n",
      "Epoch 149/200\n",
      "1503/1503 [==============================] - 1s 435us/step - loss: 0.5352 - accuracy: 0.9095 - val_loss: 0.8439 - val_accuracy: 0.7328\n",
      "Epoch 150/200\n",
      "1503/1503 [==============================] - 1s 438us/step - loss: 0.5405 - accuracy: 0.9062 - val_loss: 0.8405 - val_accuracy: 0.7368\n",
      "Epoch 151/200\n",
      "1503/1503 [==============================] - 1s 435us/step - loss: 0.5469 - accuracy: 0.9069 - val_loss: 0.8486 - val_accuracy: 0.7301\n",
      "Epoch 152/200\n",
      "1503/1503 [==============================] - 1s 442us/step - loss: 0.5308 - accuracy: 0.9135 - val_loss: 0.8250 - val_accuracy: 0.7395\n",
      "Epoch 153/200\n",
      "1503/1503 [==============================] - 1s 436us/step - loss: 0.5107 - accuracy: 0.9235 - val_loss: 0.8480 - val_accuracy: 0.7314\n",
      "Epoch 154/200\n",
      "1503/1503 [==============================] - 1s 437us/step - loss: 0.5189 - accuracy: 0.9168 - val_loss: 0.8347 - val_accuracy: 0.7301\n",
      "Epoch 155/200\n",
      "1503/1503 [==============================] - 1s 445us/step - loss: 0.5137 - accuracy: 0.9148 - val_loss: 0.8408 - val_accuracy: 0.7355\n",
      "Epoch 156/200\n",
      "1503/1503 [==============================] - 1s 435us/step - loss: 0.5124 - accuracy: 0.9095 - val_loss: 0.8314 - val_accuracy: 0.7301\n",
      "Epoch 157/200\n",
      "1503/1503 [==============================] - 1s 440us/step - loss: 0.5029 - accuracy: 0.9182 - val_loss: 0.8340 - val_accuracy: 0.7368\n",
      "Epoch 158/200\n",
      "1503/1503 [==============================] - 1s 434us/step - loss: 0.5069 - accuracy: 0.9275 - val_loss: 0.8236 - val_accuracy: 0.7463\n",
      "Epoch 159/200\n",
      "1503/1503 [==============================] - 1s 438us/step - loss: 0.5136 - accuracy: 0.9128 - val_loss: 0.8346 - val_accuracy: 0.7193\n",
      "Epoch 160/200\n",
      "1503/1503 [==============================] - 1s 435us/step - loss: 0.5036 - accuracy: 0.9182 - val_loss: 0.8121 - val_accuracy: 0.7449\n",
      "Epoch 161/200\n",
      "1503/1503 [==============================] - 1s 437us/step - loss: 0.4778 - accuracy: 0.9281 - val_loss: 0.8203 - val_accuracy: 0.7476\n",
      "Epoch 162/200\n",
      "1503/1503 [==============================] - 1s 437us/step - loss: 0.4983 - accuracy: 0.9255 - val_loss: 0.8320 - val_accuracy: 0.7341\n",
      "Epoch 163/200\n",
      "1503/1503 [==============================] - 1s 434us/step - loss: 0.4843 - accuracy: 0.9288 - val_loss: 0.8224 - val_accuracy: 0.7503\n",
      "Epoch 164/200\n",
      "1503/1503 [==============================] - 1s 438us/step - loss: 0.4916 - accuracy: 0.9235 - val_loss: 0.8255 - val_accuracy: 0.7382\n",
      "Epoch 165/200\n",
      "1503/1503 [==============================] - 1s 434us/step - loss: 0.4703 - accuracy: 0.9381 - val_loss: 0.8102 - val_accuracy: 0.7463\n",
      "Epoch 166/200\n",
      "1503/1503 [==============================] - 1s 440us/step - loss: 0.4746 - accuracy: 0.9281 - val_loss: 0.8470 - val_accuracy: 0.7260\n",
      "Epoch 167/200\n",
      "1503/1503 [==============================] - 1s 433us/step - loss: 0.4764 - accuracy: 0.9275 - val_loss: 0.8329 - val_accuracy: 0.7301\n",
      "Epoch 168/200\n",
      "1503/1503 [==============================] - 1s 437us/step - loss: 0.4704 - accuracy: 0.9295 - val_loss: 0.8070 - val_accuracy: 0.7368\n",
      "Epoch 169/200\n",
      "1503/1503 [==============================] - 1s 439us/step - loss: 0.4652 - accuracy: 0.9308 - val_loss: 0.8273 - val_accuracy: 0.7368\n",
      "Epoch 170/200\n",
      "1503/1503 [==============================] - 1s 437us/step - loss: 0.4579 - accuracy: 0.9275 - val_loss: 0.8156 - val_accuracy: 0.7449\n",
      "Epoch 171/200\n",
      "1503/1503 [==============================] - 1s 436us/step - loss: 0.4539 - accuracy: 0.9315 - val_loss: 0.8151 - val_accuracy: 0.7463\n",
      "Epoch 172/200\n",
      "1503/1503 [==============================] - 1s 438us/step - loss: 0.4514 - accuracy: 0.9341 - val_loss: 0.8143 - val_accuracy: 0.7530\n",
      "Epoch 173/200\n",
      "1503/1503 [==============================] - 1s 435us/step - loss: 0.4501 - accuracy: 0.9421 - val_loss: 0.7981 - val_accuracy: 0.7517\n",
      "Epoch 174/200\n",
      "1503/1503 [==============================] - 1s 440us/step - loss: 0.4588 - accuracy: 0.9328 - val_loss: 0.7986 - val_accuracy: 0.7517\n",
      "Epoch 175/200\n",
      "1503/1503 [==============================] - 1s 435us/step - loss: 0.4445 - accuracy: 0.9341 - val_loss: 0.8116 - val_accuracy: 0.7395\n",
      "Epoch 176/200\n",
      "1503/1503 [==============================] - 1s 438us/step - loss: 0.4331 - accuracy: 0.9514 - val_loss: 0.8112 - val_accuracy: 0.7476\n",
      "Epoch 177/200\n",
      "1503/1503 [==============================] - 1s 438us/step - loss: 0.4367 - accuracy: 0.9395 - val_loss: 0.7975 - val_accuracy: 0.7503\n",
      "Epoch 178/200\n",
      "1503/1503 [==============================] - 1s 433us/step - loss: 0.4373 - accuracy: 0.9461 - val_loss: 0.8009 - val_accuracy: 0.7517\n",
      "Epoch 179/200\n",
      "1503/1503 [==============================] - 1s 435us/step - loss: 0.4314 - accuracy: 0.9395 - val_loss: 0.8192 - val_accuracy: 0.7314\n",
      "Epoch 180/200\n",
      "1503/1503 [==============================] - 1s 436us/step - loss: 0.4245 - accuracy: 0.9448 - val_loss: 0.7913 - val_accuracy: 0.7611\n",
      "Epoch 181/200\n",
      "1503/1503 [==============================] - 1s 436us/step - loss: 0.4217 - accuracy: 0.9474 - val_loss: 0.8027 - val_accuracy: 0.7314\n",
      "Epoch 182/200\n",
      "1503/1503 [==============================] - 1s 433us/step - loss: 0.4111 - accuracy: 0.9508 - val_loss: 0.8175 - val_accuracy: 0.7463\n",
      "Epoch 183/200\n",
      "1503/1503 [==============================] - 1s 436us/step - loss: 0.4185 - accuracy: 0.9468 - val_loss: 0.7992 - val_accuracy: 0.7503\n",
      "Epoch 184/200\n",
      "1503/1503 [==============================] - 1s 441us/step - loss: 0.4196 - accuracy: 0.9468 - val_loss: 0.7820 - val_accuracy: 0.7571\n",
      "Epoch 185/200\n",
      "1503/1503 [==============================] - 1s 438us/step - loss: 0.4189 - accuracy: 0.9428 - val_loss: 0.7941 - val_accuracy: 0.7463\n",
      "Epoch 186/200\n",
      "1503/1503 [==============================] - 1s 440us/step - loss: 0.4065 - accuracy: 0.9454 - val_loss: 0.8146 - val_accuracy: 0.7314\n",
      "Epoch 187/200\n",
      "1503/1503 [==============================] - 1s 440us/step - loss: 0.3964 - accuracy: 0.9574 - val_loss: 0.7937 - val_accuracy: 0.7571\n",
      "Epoch 188/200\n",
      "1503/1503 [==============================] - 1s 436us/step - loss: 0.4120 - accuracy: 0.9514 - val_loss: 0.7861 - val_accuracy: 0.7557\n",
      "Epoch 189/200\n",
      "1503/1503 [==============================] - 1s 438us/step - loss: 0.3978 - accuracy: 0.9541 - val_loss: 0.7712 - val_accuracy: 0.7625\n",
      "Epoch 190/200\n",
      "1503/1503 [==============================] - 1s 442us/step - loss: 0.3904 - accuracy: 0.9554 - val_loss: 0.7800 - val_accuracy: 0.7517\n",
      "Epoch 191/200\n",
      "1503/1503 [==============================] - 1s 438us/step - loss: 0.3975 - accuracy: 0.9554 - val_loss: 0.8409 - val_accuracy: 0.7139\n",
      "Epoch 192/200\n",
      "1503/1503 [==============================] - 1s 437us/step - loss: 0.3986 - accuracy: 0.9568 - val_loss: 0.8168 - val_accuracy: 0.7355\n",
      "Epoch 193/200\n",
      "1503/1503 [==============================] - 1s 433us/step - loss: 0.3869 - accuracy: 0.9601 - val_loss: 0.7843 - val_accuracy: 0.7503\n",
      "Epoch 194/200\n",
      "1503/1503 [==============================] - 1s 433us/step - loss: 0.3823 - accuracy: 0.9594 - val_loss: 0.7860 - val_accuracy: 0.7611\n",
      "Epoch 195/200\n",
      "1503/1503 [==============================] - 1s 440us/step - loss: 0.3893 - accuracy: 0.9554 - val_loss: 0.8084 - val_accuracy: 0.7328\n",
      "Epoch 196/200\n",
      "1503/1503 [==============================] - 1s 438us/step - loss: 0.3771 - accuracy: 0.9581 - val_loss: 0.7694 - val_accuracy: 0.7571\n",
      "Epoch 197/200\n",
      "1503/1503 [==============================] - 1s 437us/step - loss: 0.3604 - accuracy: 0.9634 - val_loss: 0.7766 - val_accuracy: 0.7665\n",
      "Epoch 198/200\n",
      "1503/1503 [==============================] - 1s 436us/step - loss: 0.3724 - accuracy: 0.9541 - val_loss: 0.7935 - val_accuracy: 0.7287\n",
      "Epoch 199/200\n",
      "1503/1503 [==============================] - 1s 435us/step - loss: 0.3716 - accuracy: 0.9614 - val_loss: 0.7651 - val_accuracy: 0.7638\n",
      "Epoch 200/200\n",
      "1503/1503 [==============================] - 1s 437us/step - loss: 0.3724 - accuracy: 0.9647 - val_loss: 0.7721 - val_accuracy: 0.7571\n"
     ]
    }
   ],
   "source": [
    "cnnhistory=model.fit(x_traincnn, \n",
    "                     y_train, \n",
    "                     batch_size=32, \n",
    "                     epochs=200, \n",
    "                     validation_data=(x_testcnn, y_test))\n",
    "                     \n",
    "                     \n",
    "                     #callbacks=[checkpoint])"
   ]
  },
  {
   "cell_type": "code",
   "execution_count": 8,
   "metadata": {},
   "outputs": [
    {
     "data": {
      "image/png": "[encoded data removed]",
      "text/plain": [
       "<Figure size 432x288 with 1 Axes>"
      ]
     },
     "metadata": {
      "needs_background": "light"
     },
     "output_type": "display_data"
    }
   ],
   "source": [
    "#dyn_noise_trim\n",
    "plt.plot(cnnhistory.history['loss'])\n",
    "plt.plot(cnnhistory.history['val_loss'])\n",
    "plt.title('model loss')\n",
    "plt.ylabel('loss')\n",
    "plt.xlabel('epoch')\n",
    "plt.legend(['train', 'test'], loc='upper left')\n",
    "plt.show()"
   ]
  },
  {
   "cell_type": "code",
   "execution_count": 9,
   "metadata": {},
   "outputs": [
    {
     "data": {
      "image/png": "[encoded data removed]",
      "text/plain": [
       "<Figure size 432x288 with 1 Axes>"
      ]
     },
     "metadata": {
      "needs_background": "light"
     },
     "output_type": "display_data"
    }
   ],
   "source": [
    "#dyn_noise_trim\n",
    "plt.plot(cnnhistory.history['accuracy'])\n",
    "plt.plot(cnnhistory.history['val_accuracy'])\n",
    "plt.title('model accuracy')\n",
    "plt.ylabel('accuracy')\n",
    "plt.xlabel('epoch')\n",
    "plt.legend(['train', 'test'], loc='upper left')\n",
    "plt.show()"
   ]
  },
  {
   "cell_type": "code",
   "execution_count": 10,
   "metadata": {},
   "outputs": [],
   "source": [
    "predictions = model.predict_classes(x_testcnn)"
   ]
  },
  {
   "cell_type": "code",
   "execution_count": 11,
   "metadata": {},
   "outputs": [],
   "source": [
    "new_Ytest = y_test.astype(int)"
   ]
  },
  {
   "cell_type": "code",
   "execution_count": 12,
   "metadata": {
    "scrolled": true
   },
   "outputs": [],
   "source": [
    "report = classification_report(new_Ytest, predictions)"
   ]
  },
  {
   "cell_type": "code",
   "execution_count": 13,
   "metadata": {
    "scrolled": true
   },
   "outputs": [
    {
     "name": "stdout",
     "output_type": "stream",
     "text": [
      "              precision    recall  f1-score   support\n",
      "\n",
      "           0       0.76      0.69      0.72        55\n",
      "           1       0.79      0.90      0.84       119\n",
      "           2       0.85      0.68      0.75       113\n",
      "           3       0.76      0.71      0.74        98\n",
      "           4       0.78      0.88      0.83       119\n",
      "           5       0.74      0.69      0.72       121\n",
      "           6       0.59      0.59      0.59        58\n",
      "           7       0.69      0.79      0.74        58\n",
      "\n",
      "    accuracy                           0.76       741\n",
      "   macro avg       0.74      0.74      0.74       741\n",
      "weighted avg       0.76      0.76      0.76       741\n",
      "\n"
     ]
    }
   ],
   "source": [
    "print(report)"
   ]
  },
  {
   "cell_type": "code",
   "execution_count": 14,
   "metadata": {},
   "outputs": [
    {
     "name": "stdout",
     "output_type": "stream",
     "text": [
      "[[ 38   7   1   1   0   2   3   3]\n",
      " [  5 107   2   2   0   2   1   0]\n",
      " [  1   7  77   2   9   8   3   6]\n",
      " [  2   7   2  70   2   7   7   1]\n",
      " [  2   2   0   0 105   3   4   3]\n",
      " [  0   0   6  14   7  84   4   6]\n",
      " [  1   6   0   3   8   4  34   2]\n",
      " [  1   0   3   0   3   3   2  46]]\n"
     ]
    }
   ],
   "source": [
    "matrix = confusion_matrix(new_Ytest, predictions)\n",
    "print (matrix)"
   ]
  },
  {
   "cell_type": "code",
   "execution_count": 15,
   "metadata": {
    "scrolled": true
   },
   "outputs": [],
   "source": [
    "model_name = 'Adam_Enhance_trim_only_epooch_200.h5'\n",
    "#save_dir = 'Ravdess_model'\n",
    "# Save model and weights\n",
    "#if not os.path.isdir(save_dir):\n",
    "#    os.makedirs(save_dir)\n",
    "#model_path = os.path.join(save_dir, model_name)\n",
    "model.save('Adam_Enhance_trim_only_epooch_200.h5')\n",
    "#print('Saved trained model at %s ' % model_path)"
   ]
  },
  {
   "cell_type": "code",
   "execution_count": 16,
   "metadata": {},
   "outputs": [
    {
     "name": "stdout",
     "output_type": "stream",
     "text": [
      "Model: \"sequential_1\"\n",
      "_________________________________________________________________\n",
      "Layer (type)                 Output Shape              Param #   \n",
      "=================================================================\n",
      "conv1d_1 (Conv1D)            (None, None, 128)         768       \n",
      "_________________________________________________________________\n",
      "batch_normalization_1 (Batch (None, None, 128)         512       \n",
      "_________________________________________________________________\n",
      "activation_1 (Activation)    (None, None, 128)         0         \n",
      "_________________________________________________________________\n",
      "conv1d_2 (Conv1D)            (None, None, 128)         82048     \n",
      "_________________________________________________________________\n",
      "batch_normalization_2 (Batch (None, None, 128)         512       \n",
      "_________________________________________________________________\n",
      "activation_2 (Activation)    (None, None, 128)         0         \n",
      "_________________________________________________________________\n",
      "conv1d_3 (Conv1D)            (None, None, 128)         82048     \n",
      "_________________________________________________________________\n",
      "batch_normalization_3 (Batch (None, None, 128)         512       \n",
      "_________________________________________________________________\n",
      "activation_3 (Activation)    (None, None, 128)         0         \n",
      "_________________________________________________________________\n",
      "conv1d_4 (Conv1D)            (None, None, 128)         82048     \n",
      "_________________________________________________________________\n",
      "batch_normalization_4 (Batch (None, None, 128)         512       \n",
      "_________________________________________________________________\n",
      "activation_4 (Activation)    (None, None, 128)         0         \n",
      "_________________________________________________________________\n",
      "conv1d_5 (Conv1D)            (None, None, 128)         82048     \n",
      "_________________________________________________________________\n",
      "batch_normalization_5 (Batch (None, None, 128)         512       \n",
      "_________________________________________________________________\n",
      "activation_5 (Activation)    (None, None, 128)         0         \n",
      "_________________________________________________________________\n",
      "conv1d_6 (Conv1D)            (None, None, 128)         82048     \n",
      "_________________________________________________________________\n",
      "batch_normalization_6 (Batch (None, None, 128)         512       \n",
      "_________________________________________________________________\n",
      "activation_6 (Activation)    (None, None, 128)         0         \n",
      "_________________________________________________________________\n",
      "conv1d_7 (Conv1D)            (None, None, 128)         82048     \n",
      "_________________________________________________________________\n",
      "batch_normalization_7 (Batch (None, None, 128)         512       \n",
      "_________________________________________________________________\n",
      "activation_7 (Activation)    (None, None, 128)         0         \n",
      "_________________________________________________________________\n",
      "global_average_pooling1d_1 ( (None, 128)               0         \n",
      "_________________________________________________________________\n",
      "dense_1 (Dense)              (None, 8)                 1032      \n",
      "_________________________________________________________________\n",
      "activation_8 (Activation)    (None, 8)                 0         \n",
      "=================================================================\n",
      "Total params: 497,672\n",
      "Trainable params: 495,880\n",
      "Non-trainable params: 1,792\n",
      "_________________________________________________________________\n"
     ]
    }
   ],
   "source": [
    "\n",
    "loaded_model = keras.models.load_model('Adam_Enhance_trim_only_epooch_200.h5')\n",
    "loaded_model.summary()\n"
   ]
  },
  {
   "cell_type": "code",
   "execution_count": 17,
   "metadata": {},
   "outputs": [
    {
     "name": "stdout",
     "output_type": "stream",
     "text": [
      "741/741 [==============================] - 0s 399us/step\n",
      "Restored model, accuracy: 75.71%\n"
     ]
    }
   ],
   "source": [
    "#loss, acc = loaded_model.evaluate(x_testcnn, y_test)\n",
    "loss, acc = loaded_model.evaluate(x_testcnn, y_test)\n",
    "print(\"Restored model, accuracy: {:5.2f}%\".format(100*acc))"
   ]
  },
  {
   "cell_type": "code",
   "execution_count": null,
   "metadata": {},
   "outputs": [],
   "source": []
  },
  {
   "cell_type": "code",
   "execution_count": 28,
   "metadata": {},
   "outputs": [],
   "source": []
  },
  {
   "cell_type": "code",
   "execution_count": 18,
   "metadata": {},
   "outputs": [],
   "source": [
    "#Test the Voice actor 23 and 24 (trim)\n",
    "path2 = '/home/jovyan/at083-group21/dataset/final_test_datasaet_model1/'\n",
    "\n",
    "lst2 = []"
   ]
  },
  {
   "cell_type": "code",
   "execution_count": 19,
   "metadata": {},
   "outputs": [
    {
     "name": "stdout",
     "output_type": "stream",
     "text": [
      "--- Start load Data. Start time: 1585285755.0022807 ---\n",
      "--- Data loaded. Loading time: 13.348771810531616 seconds ---\n"
     ]
    }
   ],
   "source": [
    "#trim\n",
    "## Trim\n",
    "\n",
    "start_time = time.time()\n",
    "print(\"--- Start load Data. Start time: %s ---\" % (start_time))\n",
    "for subdir, dirs, files in os.walk(path2):\n",
    "\n",
    "    for file in files:\n",
    "        try:\n",
    "            #Load librosa array, obtain mfcss, store the file and the mcss information in a new array\n",
    "            X, sample_rate = librosa.load(os.path.join(subdir,file), res_type='kaiser_fast')\n",
    "            \n",
    "            #####Data Augmentation\n",
    "                        \n",
    "            X = trim(X)\n",
    "            sample_rate = np.array(sample_rate)\n",
    "\n",
    "            \n",
    "            mfccs = np.mean(librosa.feature.mfcc(y=X, sr=sample_rate, n_mfcc=100).T,axis=0) \n",
    "            # The instruction below converts the labels (from 1 to 8) to a series from 0 to 7\n",
    "            # This is because our predictor needs to start from 0 otherwise it will try to predict also 0.\n",
    "            file = int(file[7:8]) - 1 \n",
    "            arr = mfccs, file\n",
    "            lst2.append(arr)\n",
    "          # If the file is not valid, skip it\n",
    "        except ValueError:\n",
    "            continue\n",
    "\n",
    "print(\"--- Data loaded. Loading time: %s seconds ---\" % (time.time() - start_time))"
   ]
  },
  {
   "cell_type": "code",
   "execution_count": null,
   "metadata": {},
   "outputs": [],
   "source": []
  },
  {
   "cell_type": "code",
   "execution_count": 20,
   "metadata": {},
   "outputs": [],
   "source": [
    "# Creating X and y: zip makes a list of all the first elements, and a list of all the second elements.\n",
    "X, y = zip(*lst2)"
   ]
  },
  {
   "cell_type": "code",
   "execution_count": 21,
   "metadata": {},
   "outputs": [
    {
     "data": {
      "text/plain": [
       "((208, 100), (208,))"
      ]
     },
     "execution_count": 21,
     "metadata": {},
     "output_type": "execute_result"
    }
   ],
   "source": [
    "X = np.asarray(X)\n",
    "y = np.asarray(y)\n",
    "X.shape, y.shape"
   ]
  },
  {
   "cell_type": "code",
   "execution_count": 22,
   "metadata": {},
   "outputs": [],
   "source": [
    "#Do a quick test\n",
    "X_train2, X_test2, y_train2, y_test2 = train_test_split(X, y, test_size=0.001, random_state=42)"
   ]
  },
  {
   "cell_type": "code",
   "execution_count": 23,
   "metadata": {},
   "outputs": [
    {
     "data": {
      "text/plain": [
       "((207, 100, 1), (1, 100, 1))"
      ]
     },
     "execution_count": 23,
     "metadata": {},
     "output_type": "execute_result"
    }
   ],
   "source": [
    "x_traincnn2 = np.expand_dims(X_train2, axis=2)\n",
    "x_testcnn2 = np.expand_dims(X_test2, axis=2)\n",
    "\n",
    "x_traincnn2.shape, x_testcnn2.shape"
   ]
  },
  {
   "cell_type": "code",
   "execution_count": 24,
   "metadata": {},
   "outputs": [],
   "source": [
    "predictions2 = loaded_model.predict_classes(x_traincnn2)"
   ]
  },
  {
   "cell_type": "code",
   "execution_count": 25,
   "metadata": {},
   "outputs": [],
   "source": [
    "new_Ytest2 = y_train2.astype(int)"
   ]
  },
  {
   "cell_type": "code",
   "execution_count": 26,
   "metadata": {},
   "outputs": [],
   "source": [
    "report = classification_report(new_Ytest2, predictions2)"
   ]
  },
  {
   "cell_type": "code",
   "execution_count": 27,
   "metadata": {},
   "outputs": [
    {
     "name": "stdout",
     "output_type": "stream",
     "text": [
      "              precision    recall  f1-score   support\n",
      "\n",
      "           0       1.00      0.47      0.64        15\n",
      "           1       0.65      0.94      0.77        32\n",
      "           2       0.64      0.22      0.33        32\n",
      "           3       0.75      0.75      0.75        32\n",
      "           4       0.61      0.34      0.44        32\n",
      "           5       0.50      0.84      0.63        32\n",
      "           6       0.40      0.50      0.44        16\n",
      "           7       0.58      0.69      0.63        16\n",
      "\n",
      "    accuracy                           0.60       207\n",
      "   macro avg       0.64      0.59      0.58       207\n",
      "weighted avg       0.64      0.60      0.58       207\n",
      "\n"
     ]
    }
   ],
   "source": [
    "print(report)"
   ]
  },
  {
   "cell_type": "code",
   "execution_count": 28,
   "metadata": {},
   "outputs": [
    {
     "name": "stdout",
     "output_type": "stream",
     "text": [
      "[[ 7  3  0  1  1  1  2  0]\n",
      " [ 0 30  0  1  0  0  1  0]\n",
      " [ 0  7  7  1  0  9  4  4]\n",
      " [ 0  5  0 24  0  1  1  1]\n",
      " [ 0  0  1  3 11 12  2  3]\n",
      " [ 0  0  2  2  1 27  0  0]\n",
      " [ 0  1  0  0  3  4  8  0]\n",
      " [ 0  0  1  0  2  0  2 11]]\n"
     ]
    }
   ],
   "source": [
    "matrix2 = confusion_matrix(new_Ytest2, predictions2)\n",
    "print (matrix2)"
   ]
  },
  {
   "cell_type": "code",
   "execution_count": 29,
   "metadata": {},
   "outputs": [
    {
     "name": "stdout",
     "output_type": "stream",
     "text": [
      "207/207 [==============================] - 0s 105us/step\n",
      "Restored model, accuracy: 60.39%\n"
     ]
    }
   ],
   "source": [
    "#loss, acc = loaded_model.evaluate(x_testcnn, y_test)\n",
    "loss2, acc2 = loaded_model.evaluate(x_traincnn2, y_train2)\n",
    "print(\"Restored model, accuracy: {:5.2f}%\".format(100*acc2))"
   ]
  },
  {
   "cell_type": "code",
   "execution_count": null,
   "metadata": {},
   "outputs": [],
   "source": []
  }
 ],
 "metadata": {
  "kernelspec": {
   "display_name": "Python 3",
   "language": "python",
   "name": "python3"
  },
  "language_info": {
   "codemirror_mode": {
    "name": "ipython",
    "version": 3
   },
   "file_extension": ".py",
   "mimetype": "text/x-python",
   "name": "python",
   "nbconvert_exporter": "python",
   "pygments_lexer": "ipython3",
   "version": "3.6.6"
  }
 },
 "nbformat": 4,
 "nbformat_minor": 4
}
