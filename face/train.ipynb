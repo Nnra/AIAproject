{
 "cells": [
  {
   "cell_type": "code",
   "execution_count": 1,
   "metadata": {},
   "outputs": [
    {
     "name": "stderr",
     "output_type": "stream",
     "text": [
      "Using TensorFlow backend.\n"
     ]
    }
   ],
   "source": [
    "import tensorflow.keras as keras\n",
    "from tensorflow.keras.datasets import cifar10\n",
    "from tensorflow.keras.models import Model, load_model\n",
    "from keras.layers import (Input, Dense, Dropout,CuDNNLSTM,TimeDistributed,\n",
    "                                     Activation, Flatten, Conv2D,\n",
    "                                     MaxPooling2D,GlobalAveragePooling2D)\n",
    "from tensorflow.keras.utils import plot_model"
   ]
  },
  {
   "cell_type": "code",
   "execution_count": 2,
   "metadata": {},
   "outputs": [],
   "source": [
    "from keras.models import load_model\n",
    "import numpy as np\n",
    "import os\n",
    "import pickle\n",
    "folder_path = './dataset/'\n",
    "train_path = os.path.join(folder_path, \"resolution_64x64x1_train.pickle\")\n",
    "test_path = os.path.join(folder_path, \"resolution_64x64x1_test.pickle\")\n",
    "emotions_count = 8\n",
    "\n",
    "def split_labels(data):\n",
    "    x = []\n",
    "    y = []\n",
    "    for item in data:\n",
    "        for i in range(0, len(item[\"images\"]), 1):\n",
    "            x.append(np.expand_dims(item[\"images\"][i],axis=3))\n",
    "            y.append(item[\"emotion\"])\n",
    "    return np.asarray(x), np.asarray(y)"
   ]
  },
  {
   "cell_type": "code",
   "execution_count": 3,
   "metadata": {},
   "outputs": [],
   "source": [
    "# load 原始data\n",
    "model_path = \"models/base_emotion_classification_model.hdf5\"\n",
    "model = load_model(model_path, compile=False) "
   ]
  },
  {
   "cell_type": "code",
   "execution_count": 4,
   "metadata": {},
   "outputs": [
    {
     "name": "stderr",
     "output_type": "stream",
     "text": [
      "/opt/conda/lib/python3.7/site-packages/ipykernel_launcher.py:15: DeprecationWarning: Both axis > a.ndim and axis < -a.ndim - 1 are deprecated and will raise an AxisError in the future.\n",
      "  from ipykernel import kernelapp as app\n"
     ]
    }
   ],
   "source": [
    "# 讀取data\n",
    "with open(train_path, 'rb') as handle:\n",
    "    train_data = pickle.load(handle)\n",
    "\n",
    "with open(test_path, 'rb') as handle:\n",
    "    test_data = pickle.load(handle)\n",
    "\n",
    "# split labels (emotion index and frames)\n",
    "x_test, y_test = split_labels(test_data)\n",
    "x_train, y_train = split_labels(train_data)\n"
   ]
  },
  {
   "cell_type": "code",
   "execution_count": null,
   "metadata": {},
   "outputs": [],
   "source": [
    "# from PIL import Image\n",
    "# import numpy as np\n",
    "\n",
    "# img = Image.fromarray(test_data[0]['images'], 'RGB')\n",
    "# img.save('my.png')\n",
    "# img.show()\n",
    "\n",
    "from matplotlib import pyplot as plt\n",
    "#plt.imshow(test_data[0]['images'], interpolation='nearest')\n",
    "plt.show(test_data[0]['images'])"
   ]
  },
  {
   "cell_type": "code",
   "execution_count": null,
   "metadata": {},
   "outputs": [],
   "source": [
    "x_test.shape"
   ]
  },
  {
   "cell_type": "code",
   "execution_count": 8,
   "metadata": {},
   "outputs": [
    {
     "data": {
      "text/plain": [
       "(62490, 64, 64, 1)"
      ]
     },
     "execution_count": 8,
     "metadata": {},
     "output_type": "execute_result"
    }
   ],
   "source": [
    "x_train.shape"
   ]
  },
  {
   "cell_type": "code",
   "execution_count": 9,
   "metadata": {},
   "outputs": [
    {
     "data": {
      "text/plain": [
       "(64, 64, 1)"
      ]
     },
     "execution_count": 9,
     "metadata": {},
     "output_type": "execute_result"
    }
   ],
   "source": [
    "x_train.shape[1:]"
   ]
  },
  {
   "cell_type": "code",
   "execution_count": 17,
   "metadata": {},
   "outputs": [],
   "source": [
    "# image preprocessing\n",
    "# x_train = x_train.astype('float32')\n",
    "# x_test = x_test.astype('float32')\n",
    "\n",
    "# 將 features(照片影像特徵值)標準化，可以提高模型預測的準確度，並且更快收斂\n",
    "# x_train /= 255  # rescaling\n",
    "# x_test /= 255  # rescaling"
   ]
  },
  {
   "cell_type": "code",
   "execution_count": 6,
   "metadata": {},
   "outputs": [
    {
     "name": "stdout",
     "output_type": "stream",
     "text": [
      "y_train shape: (62490, 8)\n",
      "y_test shape: (6180, 8)\n"
     ]
    }
   ],
   "source": [
    "# 將訓練資料與測試資料的label，進行Onehot encoding轉換\n",
    "emotions_count = 8\n",
    "# y_train = np.eye(emotions_count, dtype='float32')[y_train[:, 0]]\n",
    "# y_test = np.eye(emotions_count, dtype='float32')[y_test[:, 0]]\n",
    "\n",
    "print('y_train shape:', y_train.shape)\n",
    "print('y_test shape:', y_test.shape)"
   ]
  },
  {
   "cell_type": "code",
   "execution_count": 8,
   "metadata": {},
   "outputs": [],
   "source": [
    "# 編譯模型\n",
    "# 選用 Adam 為 optimizer\n",
    "learning_rate = 0.00005\n",
    "optimizer = keras.optimizers.Adam(lr=learning_rate)\n",
    "\n",
    "model.compile(loss='categorical_crossentropy',\n",
    "              optimizer=optimizer,\n",
    "              metrics=['accuracy'])\n",
    "\n"
   ]
  },
  {
   "cell_type": "code",
   "execution_count": 9,
   "metadata": {},
   "outputs": [
    {
     "name": "stdout",
     "output_type": "stream",
     "text": [
      "Train on 62490 samples, validate on 6180 samples\n",
      "Epoch 1/10\n",
      "62490/62490 [==============================] - 72s 1ms/step - loss: 1.2520 - accuracy: 0.5967 - val_loss: 0.7998 - val_accuracy: 0.7121\n",
      "Epoch 2/10\n",
      "62490/62490 [==============================] - 66s 1ms/step - loss: 0.7329 - accuracy: 0.7452 - val_loss: 0.6246 - val_accuracy: 0.7722\n",
      "Epoch 3/10\n",
      "62490/62490 [==============================] - 67s 1ms/step - loss: 0.5550 - accuracy: 0.8154 - val_loss: 0.5009 - val_accuracy: 0.8248\n",
      "Epoch 4/10\n",
      "62490/62490 [==============================] - 66s 1ms/step - loss: 0.4444 - accuracy: 0.8559 - val_loss: 0.4043 - val_accuracy: 0.8650\n",
      "Epoch 5/10\n",
      "62490/62490 [==============================] - 66s 1ms/step - loss: 0.3657 - accuracy: 0.8848 - val_loss: 0.3356 - val_accuracy: 0.8929\n",
      "Epoch 6/10\n",
      "62490/62490 [==============================] - 67s 1ms/step - loss: 0.3072 - accuracy: 0.9065 - val_loss: 0.2993 - val_accuracy: 0.9052\n",
      "Epoch 7/10\n",
      "62490/62490 [==============================] - 67s 1ms/step - loss: 0.2641 - accuracy: 0.9212 - val_loss: 0.2428 - val_accuracy: 0.9296\n",
      "Epoch 8/10\n",
      "62490/62490 [==============================] - 66s 1ms/step - loss: 0.2295 - accuracy: 0.9323 - val_loss: 0.2097 - val_accuracy: 0.9396\n",
      "Epoch 9/10\n",
      "62490/62490 [==============================] - 67s 1ms/step - loss: 0.2005 - accuracy: 0.9418 - val_loss: 0.1879 - val_accuracy: 0.9461\n",
      "Epoch 10/10\n",
      "62490/62490 [==============================] - 66s 1ms/step - loss: 0.1748 - accuracy: 0.9501 - val_loss: 0.1617 - val_accuracy: 0.9547\n"
     ]
    }
   ],
   "source": [
    "batch_size = 32\n",
    "epochs = 10\n",
    "history = model.fit(x_train, y_train,\n",
    "                    batch_size=batch_size,\n",
    "                    epochs=epochs,\n",
    "                    validation_data=(x_test, y_test)\n",
    "                   )\n",
    "                    #callbacks=callbacks_list)"
   ]
  },
  {
   "cell_type": "code",
   "execution_count": 10,
   "metadata": {},
   "outputs": [],
   "source": [
    "from sklearn.metrics import accuracy_score, confusion_matrix"
   ]
  },
  {
   "cell_type": "code",
   "execution_count": 11,
   "metadata": {},
   "outputs": [
    {
     "name": "stdout",
     "output_type": "stream",
     "text": [
      "[[7.9319980e-03 3.6339483e-01 6.2474936e-01 1.3635794e-07 2.0566581e-06\n",
      "  5.2204157e-08 5.9986731e-09 3.9215344e-03]\n",
      " [6.1462275e-03 1.9088806e-01 7.9924983e-01 6.5989745e-08 2.2225147e-06\n",
      "  5.7173231e-08 2.8256615e-09 3.7135368e-03]\n",
      " [8.9423954e-03 2.9349843e-01 6.9393706e-01 1.3613089e-07 2.0199966e-06\n",
      "  7.4252895e-08 3.7848191e-09 3.6198453e-03]]\n",
      "[2 2 2]\n"
     ]
    }
   ],
   "source": [
    "y_pred = model.predict(x_test)\n",
    "print(y_pred[:3])\n",
    "y_pred = y_pred.argmax(-1)\n",
    "print(y_pred[:3])"
   ]
  },
  {
   "cell_type": "code",
   "execution_count": 12,
   "metadata": {},
   "outputs": [
    {
     "name": "stdout",
     "output_type": "stream",
     "text": [
      "0.9546925566343042\n",
      "[[345   7   3   0   2   0   0   3]\n",
      " [  2 817  14   0   0   0   0   7]\n",
      " [  4  40 659   1   0   0   0  16]\n",
      " [  0   3   0 835   1  14  13   4]\n",
      " [  0   0   0   5 914   0   0  11]\n",
      " [  0   0   0   9   2 785   0  14]\n",
      " [  0   0   0   5   2   6 912   5]\n",
      " [ 25  15   6   6  15  20   0 633]]\n"
     ]
    }
   ],
   "source": [
    "print(accuracy_score(y_test.argmax(-1), y_pred))\n",
    "print(confusion_matrix(y_test.argmax(-1), y_pred))"
   ]
  },
  {
   "cell_type": "code",
   "execution_count": 13,
   "metadata": {},
   "outputs": [
    {
     "data": {
      "image/png": "[encoded data removed]",
      "text/plain": [
       "<Figure size 864x360 with 2 Axes>"
      ]
     },
     "metadata": {
      "needs_background": "light"
     },
     "output_type": "display_data"
    }
   ],
   "source": [
    "import matplotlib.pyplot as plt\n",
    "train_history = ['loss', 'val_loss', 'accuracy', 'val_accuracy']\n",
    "name_history = ['training_loss', 'val_loss', 'training_acc', 'val_acc']\n",
    "\n",
    "plt.figure(figsize=(12, 5))\n",
    "for eachx, eachy, i in zip(train_history, name_history, range(4)):\n",
    "    if i % 2 == 0:\n",
    "        plt.subplot(1, 2, i//2+1)\n",
    "    l_x = len(history.history[eachx])\n",
    "    plt.plot(np.arange(l_x), history.history[eachx], label=eachy)\n",
    "    plt.legend(loc='best')\n",
    "    plt.title(eachy)\n",
    "plt.show()"
   ]
  },
  {
   "cell_type": "code",
   "execution_count": null,
   "metadata": {},
   "outputs": [],
   "source": []
  },
  {
   "cell_type": "code",
   "execution_count": 14,
   "metadata": {},
   "outputs": [
    {
     "name": "stdout",
     "output_type": "stream",
     "text": [
      "Model was saved to models/emotion_classificator_base_3.hdf5\n"
     ]
    },
    {
     "name": "stderr",
     "output_type": "stream",
     "text": [
      "/opt/conda/lib/python3.7/site-packages/keras/engine/saving.py:165: UserWarning: TensorFlow optimizers do not make it possible to access optimizer attributes or optimizer state after instantiation. As a result, we cannot save the optimizer as part of the model save file.You will have to compile your model again after loading it. Prefer using a Keras optimizer instead (see keras.io/optimizers).\n",
      "  'TensorFlow optimizers do not '\n"
     ]
    }
   ],
   "source": [
    "# save\n",
    "index = 'base_3'\n",
    "name = \"emotion_classificator_{}.hdf5\".format(index)\n",
    "name = os.path.join('models/', name)\n",
    "\n",
    "model.save(name)\n",
    "print(\"Model was saved to {}\".format(name))"
   ]
  },
  {
   "cell_type": "code",
   "execution_count": null,
   "metadata": {},
   "outputs": [],
   "source": []
  }
 ],
 "metadata": {
  "kernelspec": {
   "display_name": "Python 3",
   "language": "python",
   "name": "python3"
  },
  "language_info": {
   "codemirror_mode": {
    "name": "ipython",
    "version": 3
   },
   "file_extension": ".py",
   "mimetype": "text/x-python",
   "name": "python",
   "nbconvert_exporter": "python",
   "pygments_lexer": "ipython3",
   "version": "3.7.3"
  }
 },
 "nbformat": 4,
 "nbformat_minor": 4
}
