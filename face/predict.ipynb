{
 "cells": [
  {
   "cell_type": "code",
   "execution_count": 1,
   "metadata": {},
   "outputs": [],
   "source": [
    "from face_emotion import FaceEmotion\n",
    "import pandas as pd"
   ]
  },
  {
   "cell_type": "code",
   "execution_count": 4,
   "metadata": {},
   "outputs": [
    {
     "data": {
      "text/plain": [
       "'neutral'"
      ]
     },
     "execution_count": 4,
     "metadata": {},
     "output_type": "execute_result"
    }
   ],
   "source": [
    "emotions_en = [\"neutral\", \"calm\", \"happy\", \"sad\", \"angry\", \"fearful\", \"disgust\", \"surprised\"]\n",
    "emotions_en[0]"
   ]
  },
  {
   "cell_type": "markdown",
   "metadata": {},
   "source": [
    "# 測試 \n",
    "# model base 1 le:0.0001 acc: 0.98\n",
    "- 01(neutral) >> surprised\n",
    "- 02(calm) >> clam\n",
    "- 03(happy) >> happy\n",
    "- 04(sad) >> angry\n",
    "- 05(angry) >> angry\n",
    "- 06(fearful) >> surprised\n",
    "- 07(disgust) >> disgust\n",
    "- 08(surprised) >> surprised\n",
    "\n",
    "# base 2 # le:0.00001 acc :0.79\n",
    "- 01(neutral) >> surprised\n",
    "- 02(calm) >> neutral\n",
    "- 03(happy) >> happy\n",
    "- 04(sad) >> sad\n",
    "- 05(angry) >> angry\n",
    "- 06(fearful) >> surprised\n",
    "- 07(disgust) >> disgust\n",
    "- 08(surprised) >> sad\n",
    "\n",
    "# base 3 # le:0.00005 acc :0.95\n",
    "- 01(neutral) >> surprised\n",
    "- 02(calm) >> surprised\n",
    "- 03(happy) >> happy\n",
    "- 04(sad) >> sad\n",
    "- 05(angry) >> angry\n",
    "- 06(fearful) >> surprised\n",
    "- 07(disgust) >> disgust\n",
    "- 08(surprised) >> surprised\n",
    "\n",
    "# basic acc:0.4\n",
    "- 01(neutral) >> neutral\n",
    "- 02(calm) >> happy\n",
    "- 03(happy) >> happy\n",
    "- 04(sad) >> angry\n",
    "- 05(angry) >> angry\n",
    "- 06 >> happy\n",
    "- 07 >> angry\n",
    "- 08 >> angry\n",
    "\n"
   ]
  },
  {
   "cell_type": "code",
   "execution_count": 54,
   "metadata": {},
   "outputs": [
    {
     "data": {
      "text/plain": [
       "'surprised'"
      ]
     },
     "execution_count": 54,
     "metadata": {},
     "output_type": "execute_result"
    }
   ],
   "source": [
    "get_max_count"
   ]
  },
  {
   "cell_type": "code",
   "execution_count": null,
   "metadata": {},
   "outputs": [],
   "source": [
    "# 單支影片預測\n",
    "#index = '02'\n",
    "#path = f'people_test/My_Movie_{index}.mp4'\n",
    "name ='02-01-08-02-01-02-24'\n",
    "path = f\"test/{name}.mp4\"\n",
    "f = FaceEmotion(source=path,model='models/emotion_classificator_base_3')\n",
    "get_max_count,new_total = f.predict()"
   ]
  },
  {
   "cell_type": "code",
   "execution_count": null,
   "metadata": {},
   "outputs": [],
   "source": [
    "# 多汁影片預測\n",
    "index_list = ['00','01','02','03','04','05','06','07','08','09','10','11','12','13','14','15']\n",
    "get = []\n",
    "new_total=[]\n",
    "for index in index_list:\n",
    "    path = f'people_test/My_Movie_{index}.mp4'\n",
    "    f = FaceEmotion(source=path,model='models/emotion_classificator_base_1')\n",
    "    get_max_count,new_total  = f.predict()\n",
    "    get.append(new_total[0]['emotion'])"
   ]
  },
  {
   "cell_type": "code",
   "execution_count": 3,
   "metadata": {},
   "outputs": [],
   "source": [
    "# output \n",
    "df = pd.DataFrame(get)\n",
    "df.to_csv(\"output.csv\")  # doctest: +SKIP"
   ]
  },
  {
   "cell_type": "code",
   "execution_count": null,
   "metadata": {},
   "outputs": [],
   "source": []
  },
  {
   "cell_type": "code",
   "execution_count": null,
   "metadata": {},
   "outputs": [],
   "source": []
  }
 ],
 "metadata": {
  "kernelspec": {
   "display_name": "Python 3",
   "language": "python",
   "name": "python3"
  },
  "language_info": {
   "codemirror_mode": {
    "name": "ipython",
    "version": 3
   },
   "file_extension": ".py",
   "mimetype": "text/x-python",
   "name": "python",
   "nbconvert_exporter": "python",
   "pygments_lexer": "ipython3",
   "version": "3.7.3"
  }
 },
 "nbformat": 4,
 "nbformat_minor": 4
}
