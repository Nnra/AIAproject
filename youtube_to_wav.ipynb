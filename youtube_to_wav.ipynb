{
 "cells": [
  {
   "cell_type": "code",
   "execution_count": 2,
   "metadata": {},
   "outputs": [
    {
     "name": "stderr",
     "output_type": "stream",
     "text": [
      "/opt/conda/lib/python3.7/site-packages/ipykernel_launcher.py:7: DeprecationWarning: Call to deprecated function all (This object can be treated as a list, all() is useless).\n",
      "  import sys\n"
     ]
    },
    {
     "data": {
      "text/plain": [
       "'/project/at083-group21/AT083_21_Orig_Score/AT083041/Emotion-Classification-Ravdess/7 Second Funny Vines.mp4'"
      ]
     },
     "execution_count": 2,
     "metadata": {},
     "output_type": "execute_result"
    }
   ],
   "source": [
    "# terminal >> pip install pytube3 --upgrade\n",
    "# download youtube audio\n",
    "from pytube import YouTube\n",
    "youTube_url = 'https://youtu.be/OkeWGrgCKRc'\n",
    "# url_encoded_fmt_stream_map >> https://github.com/nficano/pytube/issues/529\n",
    "yt = YouTube(youTube_url)\n",
    "yt.streams.filter(only_audio=True).all()[0].download()"
   ]
  },
  {
   "cell_type": "code",
   "execution_count": 3,
   "metadata": {},
   "outputs": [],
   "source": [
    "# terminal >> pip install pydub\n",
    "# terminal >> conda install -c conda-forge ffmpeg\n",
    "from pydub import AudioSegment\n",
    "audio_path ='7 Second Funny Vines.mp4'\n",
    "# load file\n",
    "sound = AudioSegment.from_file(audio_path)\n",
    "# cut audio (刪減音檔長度)\n",
    "halfway_point = len(sound) // 1.5 \n",
    "first_half = sound[:halfway_point]"
   ]
  },
  {
   "cell_type": "code",
   "execution_count": 4,
   "metadata": {},
   "outputs": [
    {
     "data": {
      "text/plain": [
       "<_io.BufferedRandom name='get_audio.wav'>"
      ]
     },
     "execution_count": 4,
     "metadata": {},
     "output_type": "execute_result"
    }
   ],
   "source": [
    "# mp4 to mav\n",
    "first_half.export(\"get_audio.wav\", format=\"wav\")"
   ]
  },
  {
   "cell_type": "code",
   "execution_count": null,
   "metadata": {},
   "outputs": [],
   "source": []
  }
 ],
 "metadata": {
  "kernelspec": {
   "display_name": "Python 3",
   "language": "python",
   "name": "python3"
  },
  "language_info": {
   "codemirror_mode": {
    "name": "ipython",
    "version": 3
   },
   "file_extension": ".py",
   "mimetype": "text/x-python",
   "name": "python",
   "nbconvert_exporter": "python",
   "pygments_lexer": "ipython3",
   "version": "3.7.3"
  }
 },
 "nbformat": 4,
 "nbformat_minor": 4
}
