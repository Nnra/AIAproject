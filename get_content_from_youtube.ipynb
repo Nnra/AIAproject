{
 "cells": [
  {
   "cell_type": "code",
   "execution_count": null,
   "metadata": {},
   "outputs": [],
   "source": [
    "def get_json_result():\n",
    "    pass\n",
    "\n",
    "def parse_json(json_str):\n",
    "    \n",
    "#     import json\n",
    "\n",
    "#     # some JSON:\n",
    "#     x =  '{ \"name\":\"John\", \"age\":30, \"city\":\"New York\"}'\n",
    "\n",
    "#     # parse x:\n",
    "#     y = json.loads(x)\n",
    "\n",
    "#     # the result is a Python dictionary:\n",
    "#     print(y[\"link\"])    \n",
    "    \n",
    "    cpmplete_link = f'https://youtube.com/{y[\"link\"]}'\n",
    "    return cpmplete_link\n",
    "\n",
    "def load():\n",
    "    # from csv\n",
    "    # pandas\n",
    "    pass\n",
    "\n",
    "def save():\n",
    "    # save to csv\n",
    "    # panas\n",
    "    pass\n",
    "\n",
    "def main():\n",
    "    \n",
    "    file_list = load('path')\n",
    "\n",
    "    lst = []\n",
    "            \n",
    "    for f in file_list:\n",
    "    \n",
    "        json_str = get_json_result()\n",
    "        link_str = parse_json(json_str)\n",
    "        \n",
    "        lst.append(link_str)\n",
    "\n",
    "\n",
    "    save('path')\n",
    "    "
   ]
  }
 ],
 "metadata": {
  "kernelspec": {
   "display_name": "Python 3",
   "language": "python",
   "name": "python3"
  },
  "language_info": {
   "codemirror_mode": {
    "name": "ipython",
    "version": 3
   },
   "file_extension": ".py",
   "mimetype": "text/x-python",
   "name": "python",
   "nbconvert_exporter": "python",
   "pygments_lexer": "ipython3",
   "version": "3.6.6"
  }
 },
 "nbformat": 4,
 "nbformat_minor": 4
}
